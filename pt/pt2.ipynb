{
 "cells": [
  {
   "cell_type": "markdown",
   "metadata": {},
   "source": [
    "## 단순 선형 회귀: 넘파이"
   ]
  },
  {
   "cell_type": "code",
   "execution_count": 1,
   "metadata": {},
   "outputs": [],
   "source": [
    "import numpy as np\n",
    "\n",
    "x = np.array(\n",
    "    [[1], [2], [3], [4], [5], [6], [7], [8], [9], [10],\n",
    "    [11], [12], [13], [14], [15], [16], [17], [18], [19], [20],\n",
    "    [21], [22], [23], [24], [25], [26], [27], [28], [29], [30]]\n",
    ")\n",
    "y = np.array(\n",
    "    [[0.94], [1.98], [2.88], [3.92], [3.96], [4.55], [5.64], [6.3], [7.44], [9.1],\n",
    "    [8.46], [9.5], [10.67], [11.16], [14], [11.83], [14.4], [14.25], [16.2], [16.32],\n",
    "    [17.46], [19.8], [18], [21.34], [22], [22.5], [24.57], [26.04], [21.6], [28.8]]\n",
    ")"
   ]
  },
  {
   "cell_type": "code",
   "execution_count": 2,
   "metadata": {},
   "outputs": [],
   "source": [
    "weight = 0.0\n",
    "bias = 0.0\n",
    "learning_rate = 0.005"
   ]
  },
  {
   "cell_type": "code",
   "execution_count": 3,
   "metadata": {},
   "outputs": [
    {
     "name": "stdout",
     "output_type": "stream",
     "text": [
      "Epoch: 1000, Weight: 0.872, Bias: -0.290, Cost: 1.377\n",
      "Epoch: 2000, Weight: 0.877, Bias: -0.391, Cost: 1.373\n",
      "Epoch: 3000, Weight: 0.878, Bias: -0.422, Cost: 1.372\n",
      "Epoch: 4000, Weight: 0.879, Bias: -0.432, Cost: 1.372\n",
      "Epoch: 5000, Weight: 0.879, Bias: -0.435, Cost: 1.372\n",
      "Epoch: 6000, Weight: 0.879, Bias: -0.436, Cost: 1.372\n",
      "Epoch: 7000, Weight: 0.879, Bias: -0.436, Cost: 1.372\n",
      "Epoch: 8000, Weight: 0.879, Bias: -0.436, Cost: 1.372\n",
      "Epoch: 9000, Weight: 0.879, Bias: -0.436, Cost: 1.372\n",
      "Epoch: 10000, Weight: 0.879, Bias: -0.436, Cost: 1.372\n"
     ]
    }
   ],
   "source": [
    "for epoch in range(10000):\n",
    "    y_hat = weight * x + bias\n",
    "\n",
    "    cost = ((y - y_hat) ** 2).mean()\n",
    "\n",
    "    weight = weight - learning_rate * ((y_hat - y) * x).mean()\n",
    "    bias = bias - learning_rate * (y_hat - y).mean()\n",
    "\n",
    "    if (epoch + 1) % 1000 == 0:\n",
    "        print(f'Epoch: {epoch+1:4d}, Weight: {weight:.3f}, Bias: {bias:.3f}, Cost: {cost:.3f}')"
   ]
  },
  {
   "cell_type": "code",
   "execution_count": null,
   "metadata": {},
   "outputs": [],
   "source": []
  }
 ],
 "metadata": {
  "kernelspec": {
   "display_name": "pt",
   "language": "python",
   "name": "python3"
  },
  "language_info": {
   "codemirror_mode": {
    "name": "ipython",
    "version": 3
   },
   "file_extension": ".py",
   "mimetype": "text/x-python",
   "name": "python",
   "nbconvert_exporter": "python",
   "pygments_lexer": "ipython3",
   "version": "3.10.14"
  }
 },
 "nbformat": 4,
 "nbformat_minor": 2
}
