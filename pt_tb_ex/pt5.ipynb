{
 "cells": [
  {
   "cell_type": "markdown",
   "metadata": {},
   "source": [
    "## 데이터세트와 데이터로더: 다중 선형 회귀"
   ]
  },
  {
   "cell_type": "code",
   "execution_count": 1,
   "metadata": {},
   "outputs": [],
   "source": [
    "import torch\n",
    "from torch import nn\n",
    "from torch import optim\n",
    "from torch.utils.data import TensorDataset, DataLoader\n",
    "\n",
    "train_x = torch.FloatTensor([\n",
    "    [1, 2], [2, 3], [3, 4], [4, 5], [5, 6], [6, 7]\n",
    "])\n",
    "train_y = torch.FloatTensor([\n",
    "    [0.1, 1.5], [1, 2.8], [1.9, 4.1], [2.8, 5.4], [3.7, 6.7], [4.6, 8]\n",
    "])"
   ]
  },
  {
   "cell_type": "code",
   "execution_count": 2,
   "metadata": {},
   "outputs": [],
   "source": [
    "train_dataset = TensorDataset(train_x, train_y)\n",
    "train_dataloader = DataLoader(train_dataset, batch_size=2, shuffle=True, drop_last=True)"
   ]
  },
  {
   "cell_type": "code",
   "execution_count": 5,
   "metadata": {},
   "outputs": [],
   "source": [
    "model = nn.Linear(2, 2, bias=False) # bias=True\n",
    "criterion = nn.MSELoss()\n",
    "\n",
    "lr = 0.001\n",
    "\n",
    "optimizer = optim.SGD(model.parameters(), lr=lr)"
   ]
  },
  {
   "cell_type": "code",
   "execution_count": 6,
   "metadata": {},
   "outputs": [
    {
     "name": "stdout",
     "output_type": "stream",
     "text": [
      "Epoch : 1000, Model : [Parameter containing:\n",
      "tensor([[0.4304, 0.2266],\n",
      "        [0.6318, 0.5786]], requires_grad=True)], Cost : 0.116\n",
      "Epoch : 2000, Model : [Parameter containing:\n",
      "tensor([[0.6910, 0.0158],\n",
      "        [0.7279, 0.5008]], requires_grad=True)], Cost : 0.073\n",
      "Epoch : 3000, Model : [Parameter containing:\n",
      "tensor([[ 0.8983, -0.1514],\n",
      "        [ 0.8044,  0.4392]], requires_grad=True)], Cost : 0.047\n",
      "Epoch : 4000, Model : [Parameter containing:\n",
      "tensor([[ 1.0627, -0.2847],\n",
      "        [ 0.8650,  0.3900]], requires_grad=True)], Cost : 0.030\n",
      "Epoch : 5000, Model : [Parameter containing:\n",
      "tensor([[ 1.1935, -0.3904],\n",
      "        [ 0.9132,  0.3510]], requires_grad=True)], Cost : 0.018\n",
      "Epoch : 6000, Model : [Parameter containing:\n",
      "tensor([[ 1.2975, -0.4745],\n",
      "        [ 0.9516,  0.3200]], requires_grad=True)], Cost : 0.012\n",
      "Epoch : 7000, Model : [Parameter containing:\n",
      "tensor([[ 1.3802, -0.5412],\n",
      "        [ 0.9821,  0.2954]], requires_grad=True)], Cost : 0.007\n",
      "Epoch : 8000, Model : [Parameter containing:\n",
      "tensor([[ 1.4458, -0.5943],\n",
      "        [ 1.0063,  0.2758]], requires_grad=True)], Cost : 0.005\n",
      "Epoch : 9000, Model : [Parameter containing:\n",
      "tensor([[ 1.4979, -0.6366],\n",
      "        [ 1.0255,  0.2602]], requires_grad=True)], Cost : 0.003\n",
      "Epoch : 10000, Model : [Parameter containing:\n",
      "tensor([[ 1.5395, -0.6701],\n",
      "        [ 1.0408,  0.2479]], requires_grad=True)], Cost : 0.002\n",
      "Epoch : 11000, Model : [Parameter containing:\n",
      "tensor([[ 1.5724, -0.6968],\n",
      "        [ 1.0530,  0.2381]], requires_grad=True)], Cost : 0.001\n",
      "Epoch : 12000, Model : [Parameter containing:\n",
      "tensor([[ 1.5986, -0.7180],\n",
      "        [ 1.0626,  0.2302]], requires_grad=True)], Cost : 0.001\n",
      "Epoch : 13000, Model : [Parameter containing:\n",
      "tensor([[ 1.6194, -0.7348],\n",
      "        [ 1.0703,  0.2240]], requires_grad=True)], Cost : 0.000\n",
      "Epoch : 14000, Model : [Parameter containing:\n",
      "tensor([[ 1.6359, -0.7482],\n",
      "        [ 1.0764,  0.2191]], requires_grad=True)], Cost : 0.000\n",
      "Epoch : 15000, Model : [Parameter containing:\n",
      "tensor([[ 1.6491, -0.7588],\n",
      "        [ 1.0812,  0.2152]], requires_grad=True)], Cost : 0.000\n",
      "Epoch : 16000, Model : [Parameter containing:\n",
      "tensor([[ 1.6595, -0.7673],\n",
      "        [ 1.0851,  0.2121]], requires_grad=True)], Cost : 0.000\n",
      "Epoch : 17000, Model : [Parameter containing:\n",
      "tensor([[ 1.6678, -0.7740],\n",
      "        [ 1.0881,  0.2096]], requires_grad=True)], Cost : 0.000\n",
      "Epoch : 18000, Model : [Parameter containing:\n",
      "tensor([[ 1.6744, -0.7793],\n",
      "        [ 1.0906,  0.2076]], requires_grad=True)], Cost : 0.000\n",
      "Epoch : 19000, Model : [Parameter containing:\n",
      "tensor([[ 1.6797, -0.7836],\n",
      "        [ 1.0925,  0.2061]], requires_grad=True)], Cost : 0.000\n",
      "Epoch : 20000, Model : [Parameter containing:\n",
      "tensor([[ 1.6839, -0.7869],\n",
      "        [ 1.0940,  0.2048]], requires_grad=True)], Cost : 0.000\n"
     ]
    }
   ],
   "source": [
    "epochs = 20000\n",
    "\n",
    "for epoch in range(epochs):\n",
    "    cost = 0.0\n",
    "\n",
    "    for batch in train_dataloader:\n",
    "        x, y = batch\n",
    "        output = model(x)\n",
    "\n",
    "        loss = criterion(output, y)\n",
    "\n",
    "        optimizer.zero_grad()\n",
    "        loss.backward()\n",
    "        optimizer.step()\n",
    "\n",
    "        cost += loss\n",
    "\n",
    "    cost = cost / len(train_dataloader)\n",
    "\n",
    "    if (epoch + 1) % 1000 == 0:\n",
    "        print(f'Epoch : {epoch+1:4d}, Model : {list(model.parameters())}, Cost : {cost:.3f}')"
   ]
  },
  {
   "cell_type": "code",
   "execution_count": null,
   "metadata": {},
   "outputs": [],
   "source": []
  }
 ],
 "metadata": {
  "kernelspec": {
   "display_name": "pt",
   "language": "python",
   "name": "python3"
  },
  "language_info": {
   "codemirror_mode": {
    "name": "ipython",
    "version": 3
   },
   "file_extension": ".py",
   "mimetype": "text/x-python",
   "name": "python",
   "nbconvert_exporter": "python",
   "pygments_lexer": "ipython3",
   "version": "3.10.14"
  }
 },
 "nbformat": 4,
 "nbformat_minor": 2
}
