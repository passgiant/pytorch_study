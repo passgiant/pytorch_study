{
 "cells": [
  {
   "cell_type": "markdown",
   "metadata": {},
   "source": [
    "## 데이터세트 분리"
   ]
  },
  {
   "cell_type": "code",
   "execution_count": 2,
   "metadata": {},
   "outputs": [],
   "source": [
    "import torch\n",
    "import pandas as pd\n",
    "from torch import nn\n",
    "from torch import optim\n",
    "from torch.utils.data import Dataset, DataLoader, random_split"
   ]
  },
  {
   "cell_type": "code",
   "execution_count": 3,
   "metadata": {},
   "outputs": [],
   "source": [
    "class CustomDataset(Dataset):\n",
    "    def __init__(self, file_path):\n",
    "        df = pd.read_csv(file_path)\n",
    "        self.x = df.iloc[:, 0].values\n",
    "        self.y = df.iloc[:, 1].values\n",
    "        self.length = len(df)\n",
    "\n",
    "    def __getitem__(self, index):\n",
    "        x = torch.FloatTensor([self.x[index] ** 2, self.x[index]])\n",
    "        y = torch.FloatTensor([self.y[index]])\n",
    "        return x, y\n",
    "    \n",
    "    def __len__(self):\n",
    "        return self.length"
   ]
  },
  {
   "cell_type": "code",
   "execution_count": 4,
   "metadata": {},
   "outputs": [],
   "source": [
    "class CustomModel(nn.Module):\n",
    "    def __init__(self):\n",
    "        super().__init__()\n",
    "        self.layer = nn.Linear(2, 1)\n",
    "\n",
    "    def forward(self, x):\n",
    "        x = self.layer(x)\n",
    "        return x"
   ]
  },
  {
   "cell_type": "code",
   "execution_count": 5,
   "metadata": {},
   "outputs": [
    {
     "name": "stdout",
     "output_type": "stream",
     "text": [
      "Training Data Size : 160\n",
      "Validation Data Size : 20\n",
      "Testing Data Size : 20\n"
     ]
    }
   ],
   "source": [
    "dataset = CustomDataset('./datasets/non_linear.csv')\n",
    "dataset_size = len(dataset)\n",
    "train_size = int(dataset_size * 0.8)\n",
    "validation_size = int(dataset_size * 0.1)\n",
    "test_size = dataset_size - train_size - validation_size\n",
    "\n",
    "train_dataset, validation_dataset, test_dataset = random_split(dataset, [train_size, validation_size, test_size])\n",
    "print(f'Training Data Size : {len(train_dataset)}')\n",
    "print(f'Validation Data Size : {len(validation_dataset)}')\n",
    "print(f'Testing Data Size : {len(test_dataset)}')\n",
    "\n",
    "train_dataloader = DataLoader(train_dataset, batch_size=16, shuffle=True, drop_last=True)\n",
    "validation_dataloader = DataLoader(validation_dataset, batch_size=4, shuffle=True, drop_last=True)\n",
    "test_dataloader = DataLoader(test_dataset, batch_size=4, shuffle=True, drop_last=True)"
   ]
  },
  {
   "cell_type": "code",
   "execution_count": 6,
   "metadata": {},
   "outputs": [],
   "source": [
    "device = 'cuda' if torch.cuda.is_available() else 'cpu'\n",
    "\n",
    "model = CustomModel().to(device)\n",
    "criterion = nn.MSELoss().to(device)\n",
    "\n",
    "lr = 0.0001\n",
    "\n",
    "optimizer = optim.SGD(model.parameters(), lr=lr)"
   ]
  },
  {
   "cell_type": "code",
   "execution_count": 7,
   "metadata": {},
   "outputs": [
    {
     "name": "stdout",
     "output_type": "stream",
     "text": [
      "Epoch : 1000, Model : [Parameter containing:\n",
      "tensor([[ 3.0982, -1.7027]], device='cuda:0', requires_grad=True), Parameter containing:\n",
      "tensor([0.5389], device='cuda:0', requires_grad=True)], Cost : 0.081\n",
      "Epoch : 2000, Model : [Parameter containing:\n",
      "tensor([[ 3.0989, -1.7027]], device='cuda:0', requires_grad=True), Parameter containing:\n",
      "tensor([0.5068], device='cuda:0', requires_grad=True)], Cost : 0.080\n",
      "Epoch : 3000, Model : [Parameter containing:\n",
      "tensor([[ 3.1006, -1.7028]], device='cuda:0', requires_grad=True), Parameter containing:\n",
      "tensor([0.4933], device='cuda:0', requires_grad=True)], Cost : 0.082\n",
      "Epoch : 4000, Model : [Parameter containing:\n",
      "tensor([[ 3.1006, -1.7029]], device='cuda:0', requires_grad=True), Parameter containing:\n",
      "tensor([0.4876], device='cuda:0', requires_grad=True)], Cost : 0.081\n",
      "Epoch : 5000, Model : [Parameter containing:\n",
      "tensor([[ 3.1009, -1.7028]], device='cuda:0', requires_grad=True), Parameter containing:\n",
      "tensor([0.4852], device='cuda:0', requires_grad=True)], Cost : 0.082\n",
      "Epoch : 6000, Model : [Parameter containing:\n",
      "tensor([[ 3.0994, -1.7030]], device='cuda:0', requires_grad=True), Parameter containing:\n",
      "tensor([0.4840], device='cuda:0', requires_grad=True)], Cost : 0.082\n",
      "Epoch : 7000, Model : [Parameter containing:\n",
      "tensor([[ 3.1002, -1.7031]], device='cuda:0', requires_grad=True), Parameter containing:\n",
      "tensor([0.4836], device='cuda:0', requires_grad=True)], Cost : 0.083\n",
      "Epoch : 8000, Model : [Parameter containing:\n",
      "tensor([[ 3.1000, -1.7030]], device='cuda:0', requires_grad=True), Parameter containing:\n",
      "tensor([0.4834], device='cuda:0', requires_grad=True)], Cost : 0.080\n",
      "Epoch : 9000, Model : [Parameter containing:\n",
      "tensor([[ 3.1004, -1.7031]], device='cuda:0', requires_grad=True), Parameter containing:\n",
      "tensor([0.4833], device='cuda:0', requires_grad=True)], Cost : 0.081\n",
      "Epoch : 10000, Model : [Parameter containing:\n",
      "tensor([[ 3.1014, -1.7028]], device='cuda:0', requires_grad=True), Parameter containing:\n",
      "tensor([0.4832], device='cuda:0', requires_grad=True)], Cost : 0.081\n"
     ]
    }
   ],
   "source": [
    "epochs = 10000\n",
    "\n",
    "for epoch in range(epochs):\n",
    "    cost = 0.0\n",
    "\n",
    "    for x, y in train_dataloader:\n",
    "        x = x.to(device)\n",
    "        y = y.to(device)\n",
    "\n",
    "        output = model(x)\n",
    "        loss = criterion(output, y)\n",
    "\n",
    "        optimizer.zero_grad()\n",
    "        loss.backward()\n",
    "        optimizer.step()\n",
    "\n",
    "        cost += loss\n",
    "\n",
    "    cost = cost / len(train_dataloader)\n",
    "\n",
    "    if (epoch + 1) % 1000 == 0:\n",
    "        print(f'Epoch : {epoch+1:4d}, Model : {list(model.parameters())}, Cost : {cost:.3f}')"
   ]
  },
  {
   "cell_type": "code",
   "execution_count": 8,
   "metadata": {},
   "outputs": [
    {
     "name": "stdout",
     "output_type": "stream",
     "text": [
      "X : tensor([[33.6400,  5.8000],\n",
      "        [ 0.2500, -0.5000],\n",
      "        [50.4100,  7.1000],\n",
      "        [ 2.5600,  1.6000]], device='cuda:0')\n",
      "Y : tensor([[ 95.0500],\n",
      "        [  2.4800],\n",
      "        [144.2400],\n",
      "        [  6.0700]], device='cuda:0')\n",
      "Outputs : tensor([[ 94.9377],\n",
      "        [  2.1100],\n",
      "        [144.7343],\n",
      "        [  5.6982]], device='cuda:0')\n",
      "--------------------\n",
      "X : tensor([[ 0.1600, -0.4000],\n",
      "        [16.8100, -4.1000],\n",
      "        [14.4400,  3.8000],\n",
      "        [ 5.7600,  2.4000]], device='cuda:0')\n",
      "Y : tensor([[ 1.5500],\n",
      "        [59.1100],\n",
      "        [38.7700],\n",
      "        [13.8100]], device='cuda:0')\n",
      "Outputs : tensor([[ 1.6606],\n",
      "        [59.5993],\n",
      "        [38.7966],\n",
      "        [14.2604]], device='cuda:0')\n",
      "--------------------\n",
      "X : tensor([[44.8900,  6.7000],\n",
      "        [38.4400, -6.2000],\n",
      "        [15.2100,  3.9000],\n",
      "        [46.2400, -6.8000]], device='cuda:0')\n",
      "Y : tensor([[127.8900],\n",
      "        [130.4100],\n",
      "        [ 41.1700],\n",
      "        [155.4300]], device='cuda:0')\n",
      "Outputs : tensor([[128.2958],\n",
      "        [130.2584],\n",
      "        [ 41.0143],\n",
      "        [155.4710]], device='cuda:0')\n",
      "--------------------\n",
      "X : tensor([[34.8100,  5.9000],\n",
      "        [19.3600,  4.4000],\n",
      "        [16.0000, -4.0000],\n",
      "        [21.1600, -4.6000]], device='cuda:0')\n",
      "Y : tensor([[98.1300],\n",
      "        [53.2700],\n",
      "        [56.7600],\n",
      "        [73.9400]], device='cuda:0')\n",
      "Outputs : tensor([[98.3960],\n",
      "        [53.0337],\n",
      "        [56.9169],\n",
      "        [73.9418]], device='cuda:0')\n",
      "--------------------\n",
      "X : tensor([[34.8100, -5.9000],\n",
      "        [19.3600, -4.4000],\n",
      "        [40.9600,  6.4000],\n",
      "        [59.2900,  7.7000]], device='cuda:0')\n",
      "Y : tensor([[118.7100],\n",
      "        [ 67.5700],\n",
      "        [116.1800],\n",
      "        [171.2600]], device='cuda:0')\n",
      "Outputs : tensor([[118.4895],\n",
      "        [ 68.0187],\n",
      "        [116.6182],\n",
      "        [171.2530]], device='cuda:0')\n",
      "--------------------\n"
     ]
    }
   ],
   "source": [
    "with torch.no_grad():\n",
    "    model.eval()\n",
    "    for x, y in validation_dataloader:\n",
    "        x = x.to(device)\n",
    "        y = y.to(device)\n",
    "\n",
    "        outputs = model(x)\n",
    "        print(f'X : {x}')\n",
    "        print(f'Y : {y}')\n",
    "        print(f'Outputs : {outputs}')\n",
    "        print('--------------------')"
   ]
  },
  {
   "cell_type": "code",
   "execution_count": null,
   "metadata": {},
   "outputs": [],
   "source": []
  }
 ],
 "metadata": {
  "kernelspec": {
   "display_name": "pt",
   "language": "python",
   "name": "python3"
  },
  "language_info": {
   "codemirror_mode": {
    "name": "ipython",
    "version": 3
   },
   "file_extension": ".py",
   "mimetype": "text/x-python",
   "name": "python",
   "nbconvert_exporter": "python",
   "pygments_lexer": "ipython3",
   "version": "3.10.14"
  }
 },
 "nbformat": 4,
 "nbformat_minor": 2
}
