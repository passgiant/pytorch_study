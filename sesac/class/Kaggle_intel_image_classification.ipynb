{
  "nbformat": 4,
  "nbformat_minor": 0,
  "metadata": {
    "colab": {
      "provenance": [],
      "gpuType": "T4"
    },
    "kernelspec": {
      "name": "python3",
      "display_name": "Python 3"
    },
    "language_info": {
      "name": "python"
    },
    "accelerator": "GPU"
  },
  "cells": [
    {
      "cell_type": "code",
      "execution_count": 1,
      "metadata": {
        "id": "WZlL450iHV6v"
      },
      "outputs": [],
      "source": [
        "KAGGLE_UPLOAD = False\n",
        "\n",
        "if KAGGLE_UPLOAD:\n",
        "    # /content/ 폴더에 kaggle.json을 업로드 (매번 colab노트북 생성시 반복)\n",
        "    from google.colab import files\n",
        "    files.upload()\n",
        "else:\n",
        "    kaggle_username = 'ventureparker'\n",
        "    from google.colab import userdata\n",
        "    kaggle_key = userdata.get(kaggle_username)"
      ]
    },
    {
      "cell_type": "code",
      "source": [
        "import json\n",
        "import os\n",
        "\n",
        "def create_kaggle_json(username, key, file_path):\n",
        "    # 데이터 생성\n",
        "    kaggle_data = {\n",
        "        \"username\": username,\n",
        "        \"key\": key\n",
        "    }\n",
        "\n",
        "    # JSON 파일로 저장\n",
        "    with open(file_path, 'w') as json_file:\n",
        "        json.dump(kaggle_data, json_file)\n",
        "\n",
        "    print(f\"kaggle.json 파일이 '{os.path.abspath(file_path)}' 경로에 생성되었습니다.\")\n",
        "\n",
        "\n",
        "\n",
        "# kaggle.json 파일 생성 함수 호출\n",
        "if KAGGLE_UPLOAD==False:\n",
        "    # 사용자 정보 입력\n",
        "    key = kaggle_key  # 여기에 key값을 입력하세요\n",
        "    filename = 'kaggle.json'\n",
        "    create_kaggle_json(kaggle_username, key, filename)"
      ],
      "metadata": {
        "colab": {
          "base_uri": "https://localhost:8080/"
        },
        "id": "JZ7RyLVAHm0I",
        "outputId": "cd02fdf1-4577-49ae-86c7-3354584a7f9c"
      },
      "execution_count": 2,
      "outputs": [
        {
          "output_type": "stream",
          "name": "stdout",
          "text": [
            "kaggle.json 파일이 '/content/kaggle.json' 경로에 생성되었습니다.\n"
          ]
        }
      ]
    },
    {
      "cell_type": "code",
      "source": [
        "import os\n",
        "import shutil\n",
        "\n",
        "os.makedirs('/root/.kaggle', exist_ok=True)\n",
        "path = os.getcwd()\n",
        "\n",
        "# 파일을 복사하는데, 이미 복사된 경우 복사하지 않는다.\n",
        "if not os.path.exists(os.path.join('/root/.kaggle','kaggle.json')):\n",
        "    src = os.path.join(path,'kaggle.json')\n",
        "    dst = os.path.join('/root/.kaggle', 'kaggle.json')\n",
        "    shutil.copy(src,dst)\n",
        "    print('파일 복사 완료')"
      ],
      "metadata": {
        "colab": {
          "base_uri": "https://localhost:8080/"
        },
        "id": "AdZ7-RRoHtTC",
        "outputId": "41ce1adf-2f8b-456d-c3db-1c1e01efbc46"
      },
      "execution_count": 4,
      "outputs": [
        {
          "output_type": "stream",
          "name": "stdout",
          "text": [
            "파일 복사 완료\n"
          ]
        }
      ]
    },
    {
      "cell_type": "code",
      "source": [
        "!chmod 600 /root/.kaggle/kaggle.json\n",
        "!kaggle datasets download -d puneet6060/intel-image-classification"
      ],
      "metadata": {
        "colab": {
          "base_uri": "https://localhost:8080/"
        },
        "id": "ocB812QvHyi3",
        "outputId": "765bcfc7-d5ad-43aa-9140-dd84e51132fd"
      },
      "execution_count": 6,
      "outputs": [
        {
          "output_type": "stream",
          "name": "stdout",
          "text": [
            "Dataset URL: https://www.kaggle.com/datasets/puneet6060/intel-image-classification\n",
            "License(s): copyright-authors\n",
            "Downloading intel-image-classification.zip to /content\n",
            "100% 346M/346M [00:06<00:00, 29.0MB/s]\n",
            "100% 346M/346M [00:06<00:00, 53.0MB/s]\n"
          ]
        }
      ]
    },
    {
      "cell_type": "code",
      "source": [
        "!unzip -qq intel-image-classification.zip -d /content/dataset/"
      ],
      "metadata": {
        "id": "Qhv1vbD8IAjP"
      },
      "execution_count": 7,
      "outputs": []
    },
    {
      "cell_type": "code",
      "source": [
        "!ls dataset"
      ],
      "metadata": {
        "colab": {
          "base_uri": "https://localhost:8080/"
        },
        "id": "v46wo9cpIdGL",
        "outputId": "801c59fe-474f-4eb2-e98a-ce6da2c0839a"
      },
      "execution_count": 8,
      "outputs": [
        {
          "output_type": "stream",
          "name": "stdout",
          "text": [
            "seg_pred  seg_test  seg_train\n"
          ]
        }
      ]
    },
    {
      "cell_type": "code",
      "source": [
        "# train데이터를 8:2로 나눠서 train:valid\n",
        "# pred데이터를 test데이터로 사용"
      ],
      "metadata": {
        "id": "WAY2lnD_IyWS"
      },
      "execution_count": 9,
      "outputs": []
    },
    {
      "cell_type": "code",
      "source": [
        "import os\n",
        "\n",
        "dataPath = '/content/dataset/'\n",
        "trainPath = os.path.join(dataPath, 'seg_train/seg_train/')\n",
        "testPath = os.path.join(dataPath, 'seg_test/seg_test/')"
      ],
      "metadata": {
        "id": "fL5Tum-BKcQf"
      },
      "execution_count": 10,
      "outputs": []
    },
    {
      "cell_type": "code",
      "source": [
        "folderList = os.listdir(trainPath)\n",
        "for folder in folderList:\n",
        "    currentDir = os.path.join(trainPath,folder)\n",
        "    print(len(os.listdir(currentDir)))"
      ],
      "metadata": {
        "colab": {
          "base_uri": "https://localhost:8080/"
        },
        "id": "jO1BXxZ8K0iW",
        "outputId": "115f90bc-1ad2-4efa-d1b9-845db0c692e2"
      },
      "execution_count": 11,
      "outputs": [
        {
          "output_type": "stream",
          "name": "stdout",
          "text": [
            "2382\n",
            "2271\n",
            "2274\n",
            "2191\n",
            "2404\n",
            "2512\n"
          ]
        }
      ]
    },
    {
      "cell_type": "code",
      "source": [
        "import random\n",
        "\n",
        "train_ratio = 0.8\n",
        "valid_ratio = 0.2\n",
        "\n",
        "# validPath를 지정\n",
        "validPath = os.path.join(dataPath,'seg_valid')\n",
        "\n",
        "# 모든 폴더 8:2 나누는 것을 구현\n",
        "import shutil\n",
        "\n",
        "if not os.path.exists(validPath):\n",
        "    # validPath 폴더를 생성\n",
        "    os.makedirs(validPath, exist_ok=True)\n",
        "\n",
        "    folderList = os.listdir(trainPath)\n",
        "    for folder in folderList:\n",
        "        currentDir = os.path.join(trainPath,folder)\n",
        "        # 현재 폴더의 파일 목록, 갯수\n",
        "        fileList = os.listdir(currentDir)\n",
        "        dataCount = len(fileList)\n",
        "        validCount = int(dataCount * valid_ratio)\n",
        "        # validPath의 클래스 폴더를 생성\n",
        "        os.makedirs(os.path.join(validPath,folder), exist_ok=True)\n",
        "\n",
        "        # 파일 리스트에서 랜덤하게 validCount만큼 선택해서 validList 생성\n",
        "        validList = random.sample(fileList, validCount)\n",
        "        for validFile in validList:\n",
        "            oldPath = os.path.join(currentDir, validFile)\n",
        "            newPath = os.path.join(validPath, folder, validFile)\n",
        "            #print(oldPath, newPath)\n",
        "            shutil.move(oldPath, newPath)\n"
      ],
      "metadata": {
        "id": "FNPErrr1MQy2"
      },
      "execution_count": 12,
      "outputs": []
    },
    {
      "cell_type": "code",
      "source": [
        "folderList = os.listdir(validPath)\n",
        "for folder in folderList:\n",
        "    currentDir = os.path.join(validPath,folder)\n",
        "    print(len(os.listdir(currentDir)))"
      ],
      "metadata": {
        "colab": {
          "base_uri": "https://localhost:8080/"
        },
        "id": "F6yNAZWOK9et",
        "outputId": "6d962760-a606-4580-fa39-7753ffe202f4"
      },
      "execution_count": 13,
      "outputs": [
        {
          "output_type": "stream",
          "name": "stdout",
          "text": [
            "476\n",
            "454\n",
            "454\n",
            "438\n",
            "480\n",
            "502\n"
          ]
        }
      ]
    },
    {
      "cell_type": "markdown",
      "source": [
        "## 데이터가 준비 되었으니 ResNet50.ipynb내용 적용"
      ],
      "metadata": {
        "id": "5BrnnWa33Zpy"
      }
    },
    {
      "cell_type": "code",
      "source": [
        "import torch\n",
        "import torchvision\n",
        "import torchvision.models as models\n",
        "from torchvision.models import ResNet50_Weights\n",
        "import torchvision.transforms as transforms\n",
        "from torch.utils.data import DataLoader, random_split\n",
        "from torchvision.datasets import ImageFolder\n",
        "import torch.nn as nn\n",
        "import torch.optim as optim\n",
        "import matplotlib.pyplot as plt\n",
        "import seaborn as sns\n",
        "from sklearn.metrics import confusion_matrix, f1_score\n",
        "import numpy as np\n",
        "import pandas as pd"
      ],
      "metadata": {
        "id": "TxaK963l3ZKo"
      },
      "execution_count": 14,
      "outputs": []
    },
    {
      "cell_type": "code",
      "source": [
        "data_dir = '/content/dataset'"
      ],
      "metadata": {
        "id": "xF2bl5MK3Ymj"
      },
      "execution_count": 15,
      "outputs": []
    },
    {
      "cell_type": "code",
      "source": [
        "train_transform = transforms.Compose([\n",
        "    transforms.RandomHorizontalFlip(),\n",
        "    transforms.RandomRotation(10),\n",
        "    transforms.RandomResizedCrop(224, scale=(0.8, 1.0)),\n",
        "    transforms.ColorJitter(brightness=0.1, contrast=0.1),\n",
        "    transforms.ToTensor(),\n",
        "    transforms.Normalize(mean=[0.485, 0.456, 0.406], std=[0.229, 0.224, 0.225])\n",
        "])\n",
        "\n",
        "test_transform = transforms.Compose([\n",
        "    transforms.Resize((224, 224)),\n",
        "    transforms.ToTensor(),\n",
        "    transforms.Normalize(mean=[0.485, 0.456, 0.406], std=[0.229, 0.224, 0.225])\n",
        "])"
      ],
      "metadata": {
        "id": "tue5U8JU3rgK"
      },
      "execution_count": 16,
      "outputs": []
    },
    {
      "cell_type": "code",
      "source": [
        "train_data = ImageFolder(root=f\"{data_dir}/seg_train/seg_train\", transform=train_transform)\n",
        "valid_data = ImageFolder(root=f\"{data_dir}/seg_valid\", transform=test_transform)\n",
        "test_data = ImageFolder(root=f\"{data_dir}/seg_test/seg_test\", transform=test_transform)\n",
        "\n",
        "# train_size = int(0.8 * len(train_data))\n",
        "# val_size = len(train_data) - train_size\n",
        "# train_dataset, val_dataset = random_split(train_data, [train_size, val_size])\n",
        "\n",
        "train_loader = DataLoader(train_data, batch_size=64, shuffle=True)\n",
        "val_loader = DataLoader(valid_data, batch_size=64, shuffle=True)\n",
        "test_loader = DataLoader(test_data, batch_size=64, shuffle=False)"
      ],
      "metadata": {
        "id": "innhfRUh3xw2"
      },
      "execution_count": 51,
      "outputs": []
    },
    {
      "cell_type": "code",
      "source": [
        "class ModifiedResNet50(nn.Module):\n",
        "    def __init__(self):\n",
        "        super(ModifiedResNet50, self).__init__()\n",
        "        self.base_model = models.resnet50(weights=ResNet50_Weights.DEFAULT)\n",
        "        num_ftrs = self.base_model.fc.in_features\n",
        "        self.base_model.fc = nn.Linear(num_ftrs, 512)\n",
        "        self.dropout = nn.Dropout(0.5)\n",
        "        self.fc = nn.Linear(512, 6)\n",
        "\n",
        "    def forward(self, x):\n",
        "        x = self.base_model(x)\n",
        "        x = self.dropout(x)\n",
        "        x = self.fc(x)\n",
        "        return x"
      ],
      "metadata": {
        "id": "uSFWB_3T36O-"
      },
      "execution_count": 52,
      "outputs": []
    },
    {
      "cell_type": "code",
      "source": [
        "model = ModifiedResNet50()\n",
        "device = torch.device(\"cuda\" if torch.cuda.is_available() else \"cpu\")\n",
        "model = model.to(device)\n",
        "criterion = nn.CrossEntropyLoss()\n",
        "optimizer = optim.Adam(model.parameters(), lr=0.0001)\n",
        "\n",
        "results = []"
      ],
      "metadata": {
        "id": "MrYRgFr03-G-"
      },
      "execution_count": 60,
      "outputs": []
    },
    {
      "cell_type": "code",
      "source": [
        "for images, labels in train_loader:\n",
        "    print(labels.shape)\n",
        ""
      ],
      "metadata": {
        "colab": {
          "base_uri": "https://localhost:8080/"
        },
        "id": "5RjDz94UYWxw",
        "outputId": "64eb9030-7dce-4905-db44-bcdf7c63c83c"
      },
      "execution_count": 63,
      "outputs": [
        {
          "output_type": "stream",
          "name": "stdout",
          "text": [
            "torch.Size([64])\n"
          ]
        }
      ]
    },
    {
      "cell_type": "code",
      "source": [
        "from tqdm import tqdm\n",
        "\n",
        "def train_model(model, criterion, optimizer, num_epochs=10):\n",
        "    for epoch in range(num_epochs):\n",
        "        model.train()\n",
        "        running_loss = 0.0\n",
        "        for inputs, labels in tqdm(train_loader):\n",
        "            inputs, labels = inputs.to(device), labels.to(device)\n",
        "            optimizer.zero_grad()\n",
        "            outputs = model(inputs)\n",
        "            loss = criterion(outputs, labels)\n",
        "            loss.backward()\n",
        "            optimizer.step()\n",
        "            running_loss += loss.item()\n",
        "\n",
        "        val_loss, val_acc, val_f1, _, _ = evaluate_model(model, val_loader)\n",
        "        results.append({\n",
        "            'epoch': epoch + 1,\n",
        "            'train_loss': running_loss / len(train_loader),\n",
        "            'val_loss': val_loss,\n",
        "            'val_accuracy': val_acc,\n",
        "            'val_f1_score': val_f1\n",
        "        })\n",
        "        print(f\"Epoch {epoch+1}, Loss: {running_loss/len(train_loader)}, Val Loss: {val_loss}, Val Accuracy: {val_acc}%, Val F1-Score: {val_f1}\")\n",
        "\n",
        "def evaluate_model(model, data_loader):\n",
        "    model.eval()\n",
        "    total = 0\n",
        "    correct = 0\n",
        "    loss_total = 0\n",
        "    all_targets = []\n",
        "    all_preds = []\n",
        "    with torch.no_grad():\n",
        "        for inputs, labels in data_loader:\n",
        "            inputs, labels = inputs.to(device), labels.to(device)\n",
        "            outputs = model(inputs)\n",
        "            loss = criterion(outputs, labels)\n",
        "            _, predicted = torch.max(outputs.data, 1)\n",
        "            total += labels.size(0)\n",
        "            correct += (predicted == labels).sum().item()\n",
        "            loss_total += loss.item()\n",
        "            all_targets.extend(labels.cpu().numpy())\n",
        "            all_preds.extend(predicted.cpu().numpy())\n",
        "    val_loss = loss_total / len(data_loader)\n",
        "    val_acc = 100 * correct / total\n",
        "    val_f1 = f1_score(all_targets, all_preds, average='macro')\n",
        "    return val_loss, val_acc, val_f1, all_preds, all_targets"
      ],
      "metadata": {
        "id": "UyANhjoj4Ckl"
      },
      "execution_count": 61,
      "outputs": []
    },
    {
      "cell_type": "code",
      "source": [
        "# 학습 진행\n",
        "train_model(model, criterion, optimizer, num_epochs=10)"
      ],
      "metadata": {
        "colab": {
          "base_uri": "https://localhost:8080/"
        },
        "id": "D-9sbpvn4PeO",
        "outputId": "4894694f-b682-4805-e9f7-16e6edaba424"
      },
      "execution_count": 62,
      "outputs": [
        {
          "output_type": "stream",
          "name": "stderr",
          "text": [
            "100%|██████████| 176/176 [02:35<00:00,  1.13it/s]\n"
          ]
        },
        {
          "output_type": "stream",
          "name": "stdout",
          "text": [
            "Epoch 1, Loss: 0.4004149458540434, Val Loss: 0.18636939420618795, Val Accuracy: 93.509272467903%, Val F1-Score: 0.9363997559480793\n"
          ]
        },
        {
          "output_type": "stream",
          "name": "stderr",
          "text": [
            "100%|██████████| 176/176 [02:33<00:00,  1.15it/s]\n"
          ]
        },
        {
          "output_type": "stream",
          "name": "stdout",
          "text": [
            "Epoch 2, Loss: 0.17909066980196672, Val Loss: 0.1732295738025145, Val Accuracy: 93.79457917261055%, Val F1-Score: 0.9393161687994427\n"
          ]
        },
        {
          "output_type": "stream",
          "name": "stderr",
          "text": [
            "100%|██████████| 176/176 [02:33<00:00,  1.15it/s]\n"
          ]
        },
        {
          "output_type": "stream",
          "name": "stdout",
          "text": [
            "Epoch 3, Loss: 0.13609969728118318, Val Loss: 0.16741998984732412, Val Accuracy: 94.04422253922966%, Val F1-Score: 0.9414760491899316\n"
          ]
        },
        {
          "output_type": "stream",
          "name": "stderr",
          "text": [
            "100%|██████████| 176/176 [02:41<00:00,  1.09it/s]\n"
          ]
        },
        {
          "output_type": "stream",
          "name": "stdout",
          "text": [
            "Epoch 4, Loss: 0.10403331499335101, Val Loss: 0.19697464037347923, Val Accuracy: 93.72325249643367%, Val F1-Score: 0.9383037611142427\n"
          ]
        },
        {
          "output_type": "stream",
          "name": "stderr",
          "text": [
            "100%|██████████| 176/176 [02:35<00:00,  1.13it/s]\n"
          ]
        },
        {
          "output_type": "stream",
          "name": "stdout",
          "text": [
            "Epoch 5, Loss: 0.07972686517115851, Val Loss: 0.18895369192416017, Val Accuracy: 93.97289586305278%, Val F1-Score: 0.9408007352032913\n"
          ]
        },
        {
          "output_type": "stream",
          "name": "stderr",
          "text": [
            "100%|██████████| 176/176 [02:34<00:00,  1.14it/s]\n"
          ]
        },
        {
          "output_type": "stream",
          "name": "stdout",
          "text": [
            "Epoch 6, Loss: 0.0633593041963071, Val Loss: 0.22130821315063673, Val Accuracy: 93.72325249643367%, Val F1-Score: 0.9382170660533359\n"
          ]
        },
        {
          "output_type": "stream",
          "name": "stderr",
          "text": [
            "100%|██████████| 176/176 [02:33<00:00,  1.14it/s]\n"
          ]
        },
        {
          "output_type": "stream",
          "name": "stdout",
          "text": [
            "Epoch 7, Loss: 0.05539389505230991, Val Loss: 0.2539971401724456, Val Accuracy: 93.54493580599144%, Val F1-Score: 0.9368351622760259\n"
          ]
        },
        {
          "output_type": "stream",
          "name": "stderr",
          "text": [
            "100%|██████████| 176/176 [02:33<00:00,  1.15it/s]\n"
          ]
        },
        {
          "output_type": "stream",
          "name": "stdout",
          "text": [
            "Epoch 8, Loss: 0.04789686082618904, Val Loss: 0.23764306988397782, Val Accuracy: 94.11554921540656%, Val F1-Score: 0.9424780252295221\n"
          ]
        },
        {
          "output_type": "stream",
          "name": "stderr",
          "text": [
            "100%|██████████| 176/176 [02:33<00:00,  1.14it/s]\n"
          ]
        },
        {
          "output_type": "stream",
          "name": "stdout",
          "text": [
            "Epoch 9, Loss: 0.04166410632420924, Val Loss: 0.22074070416221564, Val Accuracy: 94.18687589158345%, Val F1-Score: 0.9429691861107857\n"
          ]
        },
        {
          "output_type": "stream",
          "name": "stderr",
          "text": [
            "100%|██████████| 176/176 [02:35<00:00,  1.13it/s]\n"
          ]
        },
        {
          "output_type": "stream",
          "name": "stdout",
          "text": [
            "Epoch 10, Loss: 0.03415242270090279, Val Loss: 0.23906212266195903, Val Accuracy: 94.18687589158345%, Val F1-Score: 0.9428350342626448\n"
          ]
        }
      ]
    },
    {
      "cell_type": "code",
      "source": [
        "def plot_confusion_matrix(labels, predictions, class_names):\n",
        "    cm = confusion_matrix(labels, predictions)\n",
        "    plt.figure(figsize=(10, 7))\n",
        "    sns.heatmap(cm, annot=True, fmt='d', xticklabels=class_names, yticklabels=class_names)\n",
        "    plt.xlabel('Predicted')\n",
        "    plt.ylabel('True')\n",
        "    plt.show()\n",
        "\n",
        "_, _, _, preds, labels = evaluate_model(model, test_loader)\n",
        "plot_confusion_matrix(labels, preds, train_data.classes)"
      ],
      "metadata": {
        "colab": {
          "base_uri": "https://localhost:8080/",
          "height": 619
        },
        "id": "WNt_2jSz4ZGt",
        "outputId": "70a238de-2f12-463f-f669-375624707f40"
      },
      "execution_count": 64,
      "outputs": [
        {
          "output_type": "display_data",
          "data": {
            "text/plain": [
              "<Figure size 1000x700 with 2 Axes>"
            ],
            "image/png": "[encoded data removed]"
          },
          "metadata": {}
        }
      ]
    },
    {
      "cell_type": "code",
      "source": [
        "!nvidia-smi"
      ],
      "metadata": {
        "colab": {
          "base_uri": "https://localhost:8080/"
        },
        "id": "lq4BC5Ep_3Ek",
        "outputId": "000a1765-7018-4ede-ace8-c284db6bfae8"
      },
      "execution_count": 25,
      "outputs": [
        {
          "output_type": "stream",
          "name": "stdout",
          "text": [
            "Mon Sep 30 08:15:21 2024       \n",
            "+---------------------------------------------------------------------------------------+\n",
            "| NVIDIA-SMI 535.104.05             Driver Version: 535.104.05   CUDA Version: 12.2     |\n",
            "|-----------------------------------------+----------------------+----------------------+\n",
            "| GPU  Name                 Persistence-M | Bus-Id        Disp.A | Volatile Uncorr. ECC |\n",
            "| Fan  Temp   Perf          Pwr:Usage/Cap |         Memory-Usage | GPU-Util  Compute M. |\n",
            "|                                         |                      |               MIG M. |\n",
            "|=========================================+======================+======================|\n",
            "|   0  Tesla T4                       Off | 00000000:00:04.0 Off |                    0 |\n",
            "| N/A   69C    P0              31W /  70W |   6243MiB / 15360MiB |      0%      Default |\n",
            "|                                         |                      |                  N/A |\n",
            "+-----------------------------------------+----------------------+----------------------+\n",
            "                                                                                         \n",
            "+---------------------------------------------------------------------------------------+\n",
            "| Processes:                                                                            |\n",
            "|  GPU   GI   CI        PID   Type   Process name                            GPU Memory |\n",
            "|        ID   ID                                                             Usage      |\n",
            "|=======================================================================================|\n",
            "+---------------------------------------------------------------------------------------+\n"
          ]
        }
      ]
    },
    {
      "cell_type": "code",
      "source": [],
      "metadata": {
        "id": "P9--SujY_5Ay"
      },
      "execution_count": null,
      "outputs": []
    }
  ]
}