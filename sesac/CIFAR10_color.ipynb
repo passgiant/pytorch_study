{
  "cells": [
    {
      "cell_type": "markdown",
      "metadata": {
        "id": "kjMKGYMNyQu6"
      },
      "source": [
        "## 조금 에러 수정이 필요함. 그리고 모든 코드를 다 칠 필요는 없을 것 같음."
      ]
    },
    {
      "cell_type": "code",
      "execution_count": 1,
      "metadata": {
        "id": "oihMBleJhN7B"
      },
      "outputs": [],
      "source": [
        "import torch\n",
        "import torch.nn as nn\n",
        "import torch.optim as optim\n",
        "import torchvision.transforms as transforms\n",
        "import torchvision.datasets as datasets\n",
        "from torch.utils.data import DataLoader, random_split\n",
        "import matplotlib.pyplot as plt\n",
        "import numpy as np\n",
        "from tqdm import tqdm"
      ]
    },
    {
      "cell_type": "code",
      "execution_count": 2,
      "metadata": {
        "colab": {
          "base_uri": "https://localhost:8080/"
        },
        "id": "dj7d6jrwiqRS",
        "outputId": "ae292a4b-d6e0-4511-bec8-9f890d323c7d"
      },
      "outputs": [
        {
          "name": "stdout",
          "output_type": "stream",
          "text": [
            "Files already downloaded and verified\n",
            "Files already downloaded and verified\n"
          ]
        }
      ],
      "source": [
        "# 데이터 증강 및 정규화를 위한 변환 설정\n",
        "transform_train = transforms.Compose([\n",
        "    transforms.RandomCrop(32, padding=4),  # 데이터 증강: 랜덤하게 잘라내기\n",
        "    transforms.RandomHorizontalFlip(),      # 데이터 증강: 랜덤하게 좌우 반전\n",
        "    transforms.ToTensor(),\n",
        "    transforms.Normalize((0.4914, 0.4822, 0.4465), (0.2023, 0.1994, 0.2010)),  # 정규화\n",
        "])\n",
        "\n",
        "transform_test = transforms.Compose([\n",
        "    transforms.ToTensor(),\n",
        "    transforms.Normalize((0.4914, 0.4822, 0.4465), (0.2023, 0.1994, 0.2010)),\n",
        "])\n",
        "\n",
        "# CIFAR10 데이터셋 불러오기\n",
        "train_dataset = datasets.CIFAR10(root='./data', train=True, download=True, transform=transform_train)\n",
        "test_dataset = datasets.CIFAR10(root='./data', train=False, download=True, transform=transform_test)\n",
        "\n",
        "#위 불러오기 코드에서 train=True나 False는 어떤 역할을 하는지 퍼플렉시티한테 질문\n",
        "\n",
        "train_ratio = 0.8  # 훈련 데이터의 비율\n",
        "\n",
        "train_size = int(len(train_dataset) * train_ratio)\n",
        "val_size = len(train_dataset) - train_size\n",
        "train_dataset, val_dataset = random_split(train_dataset, [train_size, val_size])\n",
        "\n",
        "# 데이터 로더 생성\n",
        "batch_size = 128  # 원하는 배치 크기 설정\n",
        "train_loader = DataLoader(train_dataset, batch_size=batch_size, shuffle=True, num_workers=2)\n",
        "valid_loader = DataLoader(val_dataset, batch_size=batch_size, shuffle=False, num_workers=2)\n",
        "test_loader = DataLoader(test_dataset, batch_size=batch_size, shuffle=False, num_workers=2)"
      ]
    },
    {
      "cell_type": "code",
      "execution_count": 3,
      "metadata": {
        "id": "sjXPbFYDmtoT"
      },
      "outputs": [],
      "source": [
        "import torch\n",
        "import torch.nn as nn\n",
        "import torch.nn.functional as F\n",
        "\n",
        "#아래 코드는 아직 안 배웠음, 치는 거 넘어가기?\n",
        "#입력 이미지 (3,32,32)\n",
        "#출력 label -> 0~9\n",
        "\n",
        "classes = 10  # CIFAR-10 클래스 수\n",
        "\n",
        "# 모델 정의 (3채널 입력, CIFAR-10에 맞게 수정)\n",
        "class Net(nn.Module):\n",
        "    def __init__(self):\n",
        "        super(Net, self).__init__()\n",
        "        # 합성곱 층\n",
        "        self.conv1 = nn.Conv2d(3, 32, kernel_size=3, padding=1)  # 3채널 입력\n",
        "        self.conv2 = nn.Conv2d(32, 64, kernel_size=3, padding=1)\n",
        "        self.pool = nn.MaxPool2d(2, 2)\n",
        "        # 완전 연결 층\n",
        "        self.fc1 = nn.Linear(64 * 16 * 16, 128)  # CIFAR-10은 32x32 이미지, MaxPool 후 16x16\n",
        "        self.fc2 = nn.Linear(128, 10)  # CIFAR-10은 10개의 클래스\n",
        "        # 활성화 함수와 드롭아웃\n",
        "        self.relu = nn.ReLU()\n",
        "        self.dropout = nn.Dropout(0.25)\n",
        "\n",
        "    def forward(self, x):\n",
        "        x = self.relu(self.conv1(x))   # [batch_size, 32, 32, 32]\n",
        "        x = self.relu(self.conv2(x))   # [batch_size, 64, 32, 32]\n",
        "        x = self.pool(x)               # [batch_size, 64, 16, 16]\n",
        "        x = self.dropout(x)\n",
        "        x = x.view(-1, 64 * 16 * 16)   # 평탄화\n",
        "        x = self.relu(self.fc1(x))\n",
        "        x = self.dropout(x)\n",
        "        x = self.fc2(x)\n",
        "        return x"
      ]
    },
    {
      "cell_type": "code",
      "execution_count": 4,
      "metadata": {
        "id": "9ZtfoE8PoGdw"
      },
      "outputs": [],
      "source": [
        "device = torch.device(\"cuda\" if torch.cuda.is_available() else \"cpu\")"
      ]
    },
    {
      "cell_type": "code",
      "execution_count": 5,
      "metadata": {
        "id": "EKf-Gh0HnkVg"
      },
      "outputs": [],
      "source": [
        "lr = 0.001\n",
        "epochs = 50\n",
        "\n",
        "model = Net().to(device)\n",
        "criterion = nn.CrossEntropyLoss()\n",
        "optimizer = optim.Adam(model.parameters(), lr=lr)"
      ]
    },
    {
      "cell_type": "code",
      "execution_count": 6,
      "metadata": {
        "id": "XWXWquS-oafG"
      },
      "outputs": [],
      "source": [
        "train_losses = []\n",
        "valid_losses = []\n",
        "train_accuracies = []\n",
        "valid_accuracies = []"
      ]
    },
    {
      "cell_type": "code",
      "execution_count": 7,
      "metadata": {
        "colab": {
          "base_uri": "https://localhost:8080/"
        },
        "id": "7mxFxXAcpXX_",
        "outputId": "45246f51-7c41-44e0-c046-3639691ced9c"
      },
      "outputs": [
        {
          "name": "stdout",
          "output_type": "stream",
          "text": [
            "\u001b[34mtrain\u001b[0m\n"
          ]
        }
      ],
      "source": [
        "print(\"\\033[34mtrain\\033[0m\")"
      ]
    },
    {
      "cell_type": "code",
      "execution_count": 8,
      "metadata": {
        "id": "RSEyG_6Xog04"
      },
      "outputs": [],
      "source": [
        "def train(model, train_loader, criterion, optimizer, epoch):\n",
        "    # 훈련 모드 설정\n",
        "    model.train()\n",
        "\n",
        "    train_loss=0\n",
        "    train_correct=0\n",
        "    train_total=0\n",
        "\n",
        "    startStr =f'Epoch {epoch+1:2d}/{epochs} \\033[34m' + 'Train'+ '\\033[0m'\n",
        "    with tqdm(total=len(train_loader), desc=startStr) as pbar:\n",
        "        for images, labels in train_loader:\n",
        "            images, labels = images.to(device), labels.to(device)\n",
        "\n",
        "            optimizer.zero_grad()\n",
        "            outputs = model(images)\n",
        "            loss = criterion(outputs, labels)\n",
        "            loss.backward()\n",
        "            optimizer.step()\n",
        "\n",
        "            train_loss += loss.item()\n",
        "            _, predicted = torch.max(outputs.data, 1)\n",
        "\n",
        "            train_total += labels.size(0)\n",
        "            train_correct += (predicted == labels).sum().item()\n",
        "            pbar.update(1)\n",
        "        train_loss = train_loss / train_total\n",
        "        train_accuracy = (train_correct / train_total)*100\n",
        "        train_losses.append(train_loss)\n",
        "        train_accuracies.append(train_accuracy)\n",
        "        endStr = f'Train Loss: {train_loss:.4f}, Train Acc: {train_accuracy:.4f}%'\n",
        "        # tqdm동작이 다 끝나면 그때 아래의 코드가 동작\n",
        "        print(endStr)\n",
        "        #pbar.set_postfix(endStr)"
      ]
    },
    {
      "cell_type": "code",
      "execution_count": 9,
      "metadata": {
        "id": "5IkTnARaxI1S"
      },
      "outputs": [],
      "source": [
        "def valid_or_test(mode, model, device, dataloader, epoch):\n",
        "    model.eval()\n",
        "    loss = 0.0\n",
        "    correct = 0\n",
        "    total = 0\n",
        "    with torch.no_grad():\n",
        "        if mode == 'valid':\n",
        "            startStr = f'Epoch {epoch+1:2d}/{epochs} \\033[34m' + 'Valid ' + '\\033[0m'\n",
        "        elif mode == 'test':\n",
        "            startStr = f'Epoch {epoch+1:2d}/{epochs} \\033[34m' + 'Test ' + '\\033[0m'\n",
        "\n",
        "        with tqdm(total=len(dataloader), desc=startStr) as pbar:\n",
        "            for data, target in dataloader:\n",
        "                data, target = data.to(device), target.to(device)\n",
        "                outputs = model(data)\n",
        "                loss = criterion(outputs, target)\n",
        "\n",
        "                loss += loss.item() * data.size(0)\n",
        "                _, predicted = torch.max(outputs, 1)\n",
        "                total += target.size(0)\n",
        "                correct += (predicted == target).sum().item()\n",
        "                pbar.update(1)\n",
        "\n",
        "            loss = loss / total\n",
        "            accuracy = 100 * correct / total\n",
        "            if mode == 'valid':\n",
        "                endStr = f'Valid Loss: {loss:.4f}, Valid Acc: {accuracy:.3f}%'\n",
        "            elif mode == 'test':\n",
        "                endStr = f'Test Loss: {loss:.4f}, Test Acc: {accuracy:.3f}%'\n",
        "            pbar.set_postfix_str(endStr)\n",
        "\n",
        "    if mode == 'valid':\n",
        "        valid_losses.append(loss)\n",
        "        valid_accuracies.append(accuracy)\n",
        "        print('-'*110)"
      ]
    },
    {
      "cell_type": "code",
      "execution_count": 10,
      "metadata": {
        "colab": {
          "base_uri": "https://localhost:8080/",
          "height": 355
        },
        "id": "Q0j33a2ExKnK",
        "outputId": "4598f9b4-4fd7-4195-e8f2-888537f88d08"
      },
      "outputs": [
        {
          "name": "stderr",
          "output_type": "stream",
          "text": [
            "Epoch  1/50 \u001b[34mTrain\u001b[0m: 100%|██████████| 313/313 [00:13<00:00, 23.83it/s]\n"
          ]
        },
        {
          "name": "stdout",
          "output_type": "stream",
          "text": [
            "Train Loss: 0.0132, Train Acc: 38.1700%\n"
          ]
        },
        {
          "name": "stderr",
          "output_type": "stream",
          "text": [
            "Epoch  1/50 \u001b[34mValid \u001b[0m: 100%|██████████| 79/79 [00:10<00:00,  7.38it/s, Valid Loss: 0.0021, Valid Acc: 48.520%]\n"
          ]
        },
        {
          "name": "stdout",
          "output_type": "stream",
          "text": [
            "--------------------------------------------------------------------------------------------------------------\n"
          ]
        },
        {
          "name": "stderr",
          "output_type": "stream",
          "text": [
            "Epoch  2/50 \u001b[34mTrain\u001b[0m: 100%|██████████| 313/313 [00:14<00:00, 21.53it/s]\n"
          ]
        },
        {
          "name": "stdout",
          "output_type": "stream",
          "text": [
            "Train Loss: 0.0106, Train Acc: 51.0700%\n"
          ]
        },
        {
          "name": "stderr",
          "output_type": "stream",
          "text": [
            "Epoch  2/50 \u001b[34mValid \u001b[0m: 100%|██████████| 79/79 [00:10<00:00,  7.41it/s, Valid Loss: 0.0022, Valid Acc: 56.930%]\n"
          ]
        },
        {
          "name": "stdout",
          "output_type": "stream",
          "text": [
            "--------------------------------------------------------------------------------------------------------------\n"
          ]
        },
        {
          "name": "stderr",
          "output_type": "stream",
          "text": [
            "Epoch  3/50 \u001b[34mTrain\u001b[0m: 100%|██████████| 313/313 [00:13<00:00, 23.71it/s]\n"
          ]
        },
        {
          "name": "stdout",
          "output_type": "stream",
          "text": [
            "Train Loss: 0.0097, Train Acc: 55.6000%\n"
          ]
        },
        {
          "name": "stderr",
          "output_type": "stream",
          "text": [
            "Epoch  3/50 \u001b[34mValid \u001b[0m: 100%|██████████| 79/79 [00:10<00:00,  7.90it/s, Valid Loss: 0.0017, Valid Acc: 60.500%]\n"
          ]
        },
        {
          "name": "stdout",
          "output_type": "stream",
          "text": [
            "--------------------------------------------------------------------------------------------------------------\n"
          ]
        },
        {
          "name": "stderr",
          "output_type": "stream",
          "text": [
            "Epoch  4/50 \u001b[34mTrain\u001b[0m: 100%|██████████| 313/313 [00:19<00:00, 16.01it/s]\n"
          ]
        },
        {
          "name": "stdout",
          "output_type": "stream",
          "text": [
            "Train Loss: 0.0092, Train Acc: 57.7400%\n"
          ]
        },
        {
          "name": "stderr",
          "output_type": "stream",
          "text": [
            "Epoch  4/50 \u001b[34mValid \u001b[0m: 100%|██████████| 79/79 [00:13<00:00,  5.82it/s, Valid Loss: 0.0019, Valid Acc: 62.170%]\n"
          ]
        },
        {
          "name": "stdout",
          "output_type": "stream",
          "text": [
            "--------------------------------------------------------------------------------------------------------------\n"
          ]
        },
        {
          "name": "stderr",
          "output_type": "stream",
          "text": [
            "Epoch  5/50 \u001b[34mTrain\u001b[0m: 100%|██████████| 313/313 [00:19<00:00, 16.41it/s]\n"
          ]
        },
        {
          "name": "stdout",
          "output_type": "stream",
          "text": [
            "Train Loss: 0.0089, Train Acc: 59.1675%\n"
          ]
        },
        {
          "name": "stderr",
          "output_type": "stream",
          "text": [
            "Epoch  5/50 \u001b[34mValid \u001b[0m: 100%|██████████| 79/79 [00:11<00:00,  6.60it/s, Valid Loss: 0.0015, Valid Acc: 63.470%]\n"
          ]
        },
        {
          "name": "stdout",
          "output_type": "stream",
          "text": [
            "--------------------------------------------------------------------------------------------------------------\n"
          ]
        },
        {
          "name": "stderr",
          "output_type": "stream",
          "text": [
            "Epoch  6/50 \u001b[34mTrain\u001b[0m: 100%|██████████| 313/313 [00:19<00:00, 16.10it/s]\n"
          ]
        },
        {
          "name": "stdout",
          "output_type": "stream",
          "text": [
            "Train Loss: 0.0086, Train Acc: 60.7375%\n"
          ]
        },
        {
          "name": "stderr",
          "output_type": "stream",
          "text": [
            "Epoch  6/50 \u001b[34mValid \u001b[0m: 100%|██████████| 79/79 [00:14<00:00,  5.64it/s, Valid Loss: 0.0015, Valid Acc: 65.400%]\n"
          ]
        },
        {
          "name": "stdout",
          "output_type": "stream",
          "text": [
            "--------------------------------------------------------------------------------------------------------------\n"
          ]
        },
        {
          "name": "stderr",
          "output_type": "stream",
          "text": [
            "Epoch  7/50 \u001b[34mTrain\u001b[0m: 100%|██████████| 313/313 [00:18<00:00, 17.24it/s]\n"
          ]
        },
        {
          "name": "stdout",
          "output_type": "stream",
          "text": [
            "Train Loss: 0.0084, Train Acc: 62.2925%\n"
          ]
        },
        {
          "name": "stderr",
          "output_type": "stream",
          "text": [
            "Epoch  7/50 \u001b[34mValid \u001b[0m: 100%|██████████| 79/79 [00:13<00:00,  5.68it/s, Valid Loss: 0.0011, Valid Acc: 65.100%]\n"
          ]
        },
        {
          "name": "stdout",
          "output_type": "stream",
          "text": [
            "--------------------------------------------------------------------------------------------------------------\n"
          ]
        },
        {
          "name": "stderr",
          "output_type": "stream",
          "text": [
            "Epoch  8/50 \u001b[34mTrain\u001b[0m: 100%|██████████| 313/313 [00:19<00:00, 16.10it/s]\n"
          ]
        },
        {
          "name": "stdout",
          "output_type": "stream",
          "text": [
            "Train Loss: 0.0082, Train Acc: 62.7600%\n"
          ]
        },
        {
          "name": "stderr",
          "output_type": "stream",
          "text": [
            "Epoch  8/50 \u001b[34mValid \u001b[0m: 100%|██████████| 79/79 [00:12<00:00,  6.15it/s, Valid Loss: 0.0012, Valid Acc: 66.070%]\n"
          ]
        },
        {
          "name": "stdout",
          "output_type": "stream",
          "text": [
            "--------------------------------------------------------------------------------------------------------------\n"
          ]
        },
        {
          "name": "stderr",
          "output_type": "stream",
          "text": [
            "Epoch  9/50 \u001b[34mTrain\u001b[0m: 100%|██████████| 313/313 [00:19<00:00, 16.20it/s]\n"
          ]
        },
        {
          "name": "stdout",
          "output_type": "stream",
          "text": [
            "Train Loss: 0.0080, Train Acc: 63.5300%\n"
          ]
        },
        {
          "name": "stderr",
          "output_type": "stream",
          "text": [
            "Epoch  9/50 \u001b[34mValid \u001b[0m: 100%|██████████| 79/79 [00:13<00:00,  5.72it/s, Valid Loss: 0.0016, Valid Acc: 66.750%]\n"
          ]
        },
        {
          "name": "stdout",
          "output_type": "stream",
          "text": [
            "--------------------------------------------------------------------------------------------------------------\n"
          ]
        },
        {
          "name": "stderr",
          "output_type": "stream",
          "text": [
            "Epoch 10/50 \u001b[34mTrain\u001b[0m: 100%|██████████| 313/313 [00:19<00:00, 15.98it/s]\n"
          ]
        },
        {
          "name": "stdout",
          "output_type": "stream",
          "text": [
            "Train Loss: 0.0079, Train Acc: 64.4950%\n"
          ]
        },
        {
          "name": "stderr",
          "output_type": "stream",
          "text": [
            "Epoch 10/50 \u001b[34mValid \u001b[0m: 100%|██████████| 79/79 [00:13<00:00,  6.00it/s, Valid Loss: 0.0016, Valid Acc: 66.980%]\n"
          ]
        },
        {
          "name": "stdout",
          "output_type": "stream",
          "text": [
            "--------------------------------------------------------------------------------------------------------------\n"
          ]
        },
        {
          "name": "stderr",
          "output_type": "stream",
          "text": [
            "Epoch 11/50 \u001b[34mTrain\u001b[0m: 100%|██████████| 313/313 [00:20<00:00, 15.41it/s]\n"
          ]
        },
        {
          "name": "stdout",
          "output_type": "stream",
          "text": [
            "Train Loss: 0.0077, Train Acc: 64.7850%\n"
          ]
        },
        {
          "name": "stderr",
          "output_type": "stream",
          "text": [
            "Epoch 11/50 \u001b[34mValid \u001b[0m: 100%|██████████| 79/79 [00:10<00:00,  7.45it/s, Valid Loss: 0.0013, Valid Acc: 68.130%]\n"
          ]
        },
        {
          "name": "stdout",
          "output_type": "stream",
          "text": [
            "--------------------------------------------------------------------------------------------------------------\n"
          ]
        },
        {
          "name": "stderr",
          "output_type": "stream",
          "text": [
            "Epoch 12/50 \u001b[34mTrain\u001b[0m: 100%|██████████| 313/313 [00:13<00:00, 23.04it/s]\n"
          ]
        },
        {
          "name": "stdout",
          "output_type": "stream",
          "text": [
            "Train Loss: 0.0077, Train Acc: 65.2525%\n"
          ]
        },
        {
          "name": "stderr",
          "output_type": "stream",
          "text": [
            "Epoch 12/50 \u001b[34mValid \u001b[0m: 100%|██████████| 79/79 [00:13<00:00,  6.00it/s, Valid Loss: 0.0013, Valid Acc: 68.760%]\n"
          ]
        },
        {
          "name": "stdout",
          "output_type": "stream",
          "text": [
            "--------------------------------------------------------------------------------------------------------------\n"
          ]
        },
        {
          "name": "stderr",
          "output_type": "stream",
          "text": [
            "Epoch 13/50 \u001b[34mTrain\u001b[0m: 100%|██████████| 313/313 [00:18<00:00, 17.11it/s]\n"
          ]
        },
        {
          "name": "stdout",
          "output_type": "stream",
          "text": [
            "Train Loss: 0.0076, Train Acc: 65.7175%\n"
          ]
        },
        {
          "name": "stderr",
          "output_type": "stream",
          "text": [
            "Epoch 13/50 \u001b[34mValid \u001b[0m: 100%|██████████| 79/79 [00:13<00:00,  6.02it/s, Valid Loss: 0.0011, Valid Acc: 69.230%]\n"
          ]
        },
        {
          "name": "stdout",
          "output_type": "stream",
          "text": [
            "--------------------------------------------------------------------------------------------------------------\n"
          ]
        },
        {
          "name": "stderr",
          "output_type": "stream",
          "text": [
            "Epoch 14/50 \u001b[34mTrain\u001b[0m: 100%|██████████| 313/313 [00:19<00:00, 16.09it/s]\n"
          ]
        },
        {
          "name": "stdout",
          "output_type": "stream",
          "text": [
            "Train Loss: 0.0074, Train Acc: 66.7700%\n"
          ]
        },
        {
          "name": "stderr",
          "output_type": "stream",
          "text": [
            "Epoch 14/50 \u001b[34mValid \u001b[0m: 100%|██████████| 79/79 [00:13<00:00,  5.88it/s, Valid Loss: 0.0016, Valid Acc: 69.570%]\n"
          ]
        },
        {
          "name": "stdout",
          "output_type": "stream",
          "text": [
            "--------------------------------------------------------------------------------------------------------------\n"
          ]
        },
        {
          "name": "stderr",
          "output_type": "stream",
          "text": [
            "Epoch 15/50 \u001b[34mTrain\u001b[0m: 100%|██████████| 313/313 [00:18<00:00, 16.54it/s]\n"
          ]
        },
        {
          "name": "stdout",
          "output_type": "stream",
          "text": [
            "Train Loss: 0.0074, Train Acc: 66.4725%\n"
          ]
        },
        {
          "name": "stderr",
          "output_type": "stream",
          "text": [
            "Epoch 15/50 \u001b[34mValid \u001b[0m: 100%|██████████| 79/79 [00:12<00:00,  6.21it/s, Valid Loss: 0.0010, Valid Acc: 69.820%]\n"
          ]
        },
        {
          "name": "stdout",
          "output_type": "stream",
          "text": [
            "--------------------------------------------------------------------------------------------------------------\n"
          ]
        },
        {
          "name": "stderr",
          "output_type": "stream",
          "text": [
            "Epoch 16/50 \u001b[34mTrain\u001b[0m: 100%|██████████| 313/313 [00:18<00:00, 16.70it/s]\n"
          ]
        },
        {
          "name": "stdout",
          "output_type": "stream",
          "text": [
            "Train Loss: 0.0073, Train Acc: 66.7575%\n"
          ]
        },
        {
          "name": "stderr",
          "output_type": "stream",
          "text": [
            "Epoch 16/50 \u001b[34mValid \u001b[0m: 100%|██████████| 79/79 [00:13<00:00,  5.93it/s, Valid Loss: 0.0013, Valid Acc: 69.720%]\n"
          ]
        },
        {
          "name": "stdout",
          "output_type": "stream",
          "text": [
            "--------------------------------------------------------------------------------------------------------------\n"
          ]
        },
        {
          "name": "stderr",
          "output_type": "stream",
          "text": [
            "Epoch 17/50 \u001b[34mTrain\u001b[0m: 100%|██████████| 313/313 [00:18<00:00, 16.64it/s]\n"
          ]
        },
        {
          "name": "stdout",
          "output_type": "stream",
          "text": [
            "Train Loss: 0.0073, Train Acc: 67.1825%\n"
          ]
        },
        {
          "name": "stderr",
          "output_type": "stream",
          "text": [
            "Epoch 17/50 \u001b[34mValid \u001b[0m: 100%|██████████| 79/79 [00:13<00:00,  5.66it/s, Valid Loss: 0.0018, Valid Acc: 69.610%]\n"
          ]
        },
        {
          "name": "stdout",
          "output_type": "stream",
          "text": [
            "--------------------------------------------------------------------------------------------------------------\n"
          ]
        },
        {
          "name": "stderr",
          "output_type": "stream",
          "text": [
            "Epoch 18/50 \u001b[34mTrain\u001b[0m: 100%|██████████| 313/313 [00:20<00:00, 15.34it/s]\n"
          ]
        },
        {
          "name": "stdout",
          "output_type": "stream",
          "text": [
            "Train Loss: 0.0071, Train Acc: 67.8975%\n"
          ]
        },
        {
          "name": "stderr",
          "output_type": "stream",
          "text": [
            "Epoch 18/50 \u001b[34mValid \u001b[0m: 100%|██████████| 79/79 [00:10<00:00,  7.89it/s, Valid Loss: 0.0010, Valid Acc: 70.180%]\n"
          ]
        },
        {
          "name": "stdout",
          "output_type": "stream",
          "text": [
            "--------------------------------------------------------------------------------------------------------------\n"
          ]
        },
        {
          "name": "stderr",
          "output_type": "stream",
          "text": [
            "Epoch 19/50 \u001b[34mTrain\u001b[0m: 100%|██████████| 313/313 [00:16<00:00, 18.86it/s]\n"
          ]
        },
        {
          "name": "stdout",
          "output_type": "stream",
          "text": [
            "Train Loss: 0.0072, Train Acc: 67.3600%\n"
          ]
        },
        {
          "name": "stderr",
          "output_type": "stream",
          "text": [
            "Epoch 19/50 \u001b[34mValid \u001b[0m: 100%|██████████| 79/79 [00:13<00:00,  5.77it/s, Valid Loss: 0.0015, Valid Acc: 70.070%]\n"
          ]
        },
        {
          "name": "stdout",
          "output_type": "stream",
          "text": [
            "--------------------------------------------------------------------------------------------------------------\n"
          ]
        },
        {
          "name": "stderr",
          "output_type": "stream",
          "text": [
            "Epoch 20/50 \u001b[34mTrain\u001b[0m: 100%|██████████| 313/313 [00:19<00:00, 15.88it/s]\n"
          ]
        },
        {
          "name": "stdout",
          "output_type": "stream",
          "text": [
            "Train Loss: 0.0070, Train Acc: 68.2600%\n"
          ]
        },
        {
          "name": "stderr",
          "output_type": "stream",
          "text": [
            "Epoch 20/50 \u001b[34mValid \u001b[0m: 100%|██████████| 79/79 [00:12<00:00,  6.21it/s, Valid Loss: 0.0012, Valid Acc: 69.860%]\n"
          ]
        },
        {
          "name": "stdout",
          "output_type": "stream",
          "text": [
            "--------------------------------------------------------------------------------------------------------------\n"
          ]
        },
        {
          "name": "stderr",
          "output_type": "stream",
          "text": [
            "Epoch 21/50 \u001b[34mTrain\u001b[0m: 100%|██████████| 313/313 [00:20<00:00, 15.24it/s]\n"
          ]
        },
        {
          "name": "stdout",
          "output_type": "stream",
          "text": [
            "Train Loss: 0.0071, Train Acc: 68.2425%\n"
          ]
        },
        {
          "name": "stderr",
          "output_type": "stream",
          "text": [
            "Epoch 21/50 \u001b[34mValid \u001b[0m: 100%|██████████| 79/79 [00:13<00:00,  5.82it/s, Valid Loss: 0.0013, Valid Acc: 71.220%]\n"
          ]
        },
        {
          "name": "stdout",
          "output_type": "stream",
          "text": [
            "--------------------------------------------------------------------------------------------------------------\n"
          ]
        },
        {
          "name": "stderr",
          "output_type": "stream",
          "text": [
            "Epoch 22/50 \u001b[34mTrain\u001b[0m: 100%|██████████| 313/313 [00:20<00:00, 14.98it/s]\n"
          ]
        },
        {
          "name": "stdout",
          "output_type": "stream",
          "text": [
            "Train Loss: 0.0069, Train Acc: 68.9150%\n"
          ]
        },
        {
          "name": "stderr",
          "output_type": "stream",
          "text": [
            "Epoch 22/50 \u001b[34mValid \u001b[0m: 100%|██████████| 79/79 [00:09<00:00,  8.57it/s, Valid Loss: 0.0013, Valid Acc: 71.690%]\n"
          ]
        },
        {
          "name": "stdout",
          "output_type": "stream",
          "text": [
            "--------------------------------------------------------------------------------------------------------------\n"
          ]
        },
        {
          "name": "stderr",
          "output_type": "stream",
          "text": [
            "Epoch 23/50 \u001b[34mTrain\u001b[0m: 100%|██████████| 313/313 [00:15<00:00, 20.41it/s]\n"
          ]
        },
        {
          "name": "stdout",
          "output_type": "stream",
          "text": [
            "Train Loss: 0.0069, Train Acc: 68.6225%\n"
          ]
        },
        {
          "name": "stderr",
          "output_type": "stream",
          "text": [
            "Epoch 23/50 \u001b[34mValid \u001b[0m: 100%|██████████| 79/79 [00:13<00:00,  5.97it/s, Valid Loss: 0.0018, Valid Acc: 71.150%]\n"
          ]
        },
        {
          "name": "stdout",
          "output_type": "stream",
          "text": [
            "--------------------------------------------------------------------------------------------------------------\n"
          ]
        },
        {
          "name": "stderr",
          "output_type": "stream",
          "text": [
            "Epoch 24/50 \u001b[34mTrain\u001b[0m: 100%|██████████| 313/313 [00:18<00:00, 16.56it/s]\n"
          ]
        },
        {
          "name": "stdout",
          "output_type": "stream",
          "text": [
            "Train Loss: 0.0068, Train Acc: 69.3200%\n"
          ]
        },
        {
          "name": "stderr",
          "output_type": "stream",
          "text": [
            "Epoch 24/50 \u001b[34mValid \u001b[0m: 100%|██████████| 79/79 [00:13<00:00,  5.79it/s, Valid Loss: 0.0007, Valid Acc: 71.630%]\n"
          ]
        },
        {
          "name": "stdout",
          "output_type": "stream",
          "text": [
            "--------------------------------------------------------------------------------------------------------------\n"
          ]
        },
        {
          "name": "stderr",
          "output_type": "stream",
          "text": [
            "Epoch 25/50 \u001b[34mTrain\u001b[0m: 100%|██████████| 313/313 [00:19<00:00, 15.91it/s]\n"
          ]
        },
        {
          "name": "stdout",
          "output_type": "stream",
          "text": [
            "Train Loss: 0.0068, Train Acc: 69.2725%\n"
          ]
        },
        {
          "name": "stderr",
          "output_type": "stream",
          "text": [
            "Epoch 25/50 \u001b[34mValid \u001b[0m: 100%|██████████| 79/79 [00:13<00:00,  5.94it/s, Valid Loss: 0.0011, Valid Acc: 71.830%]\n"
          ]
        },
        {
          "name": "stdout",
          "output_type": "stream",
          "text": [
            "--------------------------------------------------------------------------------------------------------------\n"
          ]
        },
        {
          "name": "stderr",
          "output_type": "stream",
          "text": [
            "Epoch 26/50 \u001b[34mTrain\u001b[0m: 100%|██████████| 313/313 [00:19<00:00, 16.35it/s]\n"
          ]
        },
        {
          "name": "stdout",
          "output_type": "stream",
          "text": [
            "Train Loss: 0.0068, Train Acc: 69.5875%\n"
          ]
        },
        {
          "name": "stderr",
          "output_type": "stream",
          "text": [
            "Epoch 26/50 \u001b[34mValid \u001b[0m: 100%|██████████| 79/79 [00:13<00:00,  5.94it/s, Valid Loss: 0.0013, Valid Acc: 72.390%]\n"
          ]
        },
        {
          "name": "stdout",
          "output_type": "stream",
          "text": [
            "--------------------------------------------------------------------------------------------------------------\n"
          ]
        },
        {
          "name": "stderr",
          "output_type": "stream",
          "text": [
            "Epoch 27/50 \u001b[34mTrain\u001b[0m: 100%|██████████| 313/313 [00:17<00:00, 18.18it/s]\n"
          ]
        },
        {
          "name": "stdout",
          "output_type": "stream",
          "text": [
            "Train Loss: 0.0067, Train Acc: 69.8125%\n"
          ]
        },
        {
          "name": "stderr",
          "output_type": "stream",
          "text": [
            "Epoch 27/50 \u001b[34mValid \u001b[0m: 100%|██████████| 79/79 [00:08<00:00,  8.98it/s, Valid Loss: 0.0009, Valid Acc: 72.340%]\n"
          ]
        },
        {
          "name": "stdout",
          "output_type": "stream",
          "text": [
            "--------------------------------------------------------------------------------------------------------------\n"
          ]
        },
        {
          "name": "stderr",
          "output_type": "stream",
          "text": [
            "Epoch 28/50 \u001b[34mTrain\u001b[0m: 100%|██████████| 313/313 [00:11<00:00, 26.18it/s]\n"
          ]
        },
        {
          "name": "stdout",
          "output_type": "stream",
          "text": [
            "Train Loss: 0.0068, Train Acc: 69.5225%\n"
          ]
        },
        {
          "name": "stderr",
          "output_type": "stream",
          "text": [
            "Epoch 28/50 \u001b[34mValid \u001b[0m: 100%|██████████| 79/79 [00:10<00:00,  7.65it/s, Valid Loss: 0.0014, Valid Acc: 71.950%]\n"
          ]
        },
        {
          "name": "stdout",
          "output_type": "stream",
          "text": [
            "--------------------------------------------------------------------------------------------------------------\n"
          ]
        },
        {
          "name": "stderr",
          "output_type": "stream",
          "text": [
            "Epoch 29/50 \u001b[34mTrain\u001b[0m: 100%|██████████| 313/313 [00:12<00:00, 24.54it/s]\n"
          ]
        },
        {
          "name": "stdout",
          "output_type": "stream",
          "text": [
            "Train Loss: 0.0066, Train Acc: 70.2525%\n"
          ]
        },
        {
          "name": "stderr",
          "output_type": "stream",
          "text": [
            "Epoch 29/50 \u001b[34mValid \u001b[0m: 100%|██████████| 79/79 [00:09<00:00,  8.12it/s, Valid Loss: 0.0010, Valid Acc: 72.230%]\n"
          ]
        },
        {
          "name": "stdout",
          "output_type": "stream",
          "text": [
            "--------------------------------------------------------------------------------------------------------------\n"
          ]
        },
        {
          "name": "stderr",
          "output_type": "stream",
          "text": [
            "Epoch 30/50 \u001b[34mTrain\u001b[0m: 100%|██████████| 313/313 [00:12<00:00, 24.81it/s]\n"
          ]
        },
        {
          "name": "stdout",
          "output_type": "stream",
          "text": [
            "Train Loss: 0.0066, Train Acc: 70.0675%\n"
          ]
        },
        {
          "name": "stderr",
          "output_type": "stream",
          "text": [
            "Epoch 30/50 \u001b[34mValid \u001b[0m: 100%|██████████| 79/79 [00:13<00:00,  5.69it/s, Valid Loss: 0.0012, Valid Acc: 72.780%]\n"
          ]
        },
        {
          "name": "stdout",
          "output_type": "stream",
          "text": [
            "--------------------------------------------------------------------------------------------------------------\n"
          ]
        },
        {
          "name": "stderr",
          "output_type": "stream",
          "text": [
            "Epoch 31/50 \u001b[34mTrain\u001b[0m: 100%|██████████| 313/313 [00:20<00:00, 15.57it/s]\n"
          ]
        },
        {
          "name": "stdout",
          "output_type": "stream",
          "text": [
            "Train Loss: 0.0066, Train Acc: 70.1950%\n"
          ]
        },
        {
          "name": "stderr",
          "output_type": "stream",
          "text": [
            "Epoch 31/50 \u001b[34mValid \u001b[0m: 100%|██████████| 79/79 [00:13<00:00,  5.80it/s, Valid Loss: 0.0008, Valid Acc: 72.290%]\n"
          ]
        },
        {
          "name": "stdout",
          "output_type": "stream",
          "text": [
            "--------------------------------------------------------------------------------------------------------------\n"
          ]
        },
        {
          "name": "stderr",
          "output_type": "stream",
          "text": [
            "Epoch 32/50 \u001b[34mTrain\u001b[0m: 100%|██████████| 313/313 [00:19<00:00, 16.05it/s]\n"
          ]
        },
        {
          "name": "stdout",
          "output_type": "stream",
          "text": [
            "Train Loss: 0.0066, Train Acc: 70.3750%\n"
          ]
        },
        {
          "name": "stderr",
          "output_type": "stream",
          "text": [
            "Epoch 32/50 \u001b[34mValid \u001b[0m: 100%|██████████| 79/79 [00:13<00:00,  6.02it/s, Valid Loss: 0.0011, Valid Acc: 72.630%]\n"
          ]
        },
        {
          "name": "stdout",
          "output_type": "stream",
          "text": [
            "--------------------------------------------------------------------------------------------------------------\n"
          ]
        },
        {
          "name": "stderr",
          "output_type": "stream",
          "text": [
            "Epoch 33/50 \u001b[34mTrain\u001b[0m: 100%|██████████| 313/313 [00:17<00:00, 18.06it/s]\n"
          ]
        },
        {
          "name": "stdout",
          "output_type": "stream",
          "text": [
            "Train Loss: 0.0065, Train Acc: 70.7650%\n"
          ]
        },
        {
          "name": "stderr",
          "output_type": "stream",
          "text": [
            "Epoch 33/50 \u001b[34mValid \u001b[0m: 100%|██████████| 79/79 [00:13<00:00,  5.93it/s, Valid Loss: 0.0013, Valid Acc: 72.770%]\n"
          ]
        },
        {
          "name": "stdout",
          "output_type": "stream",
          "text": [
            "--------------------------------------------------------------------------------------------------------------\n"
          ]
        },
        {
          "name": "stderr",
          "output_type": "stream",
          "text": [
            "Epoch 34/50 \u001b[34mTrain\u001b[0m: 100%|██████████| 313/313 [00:19<00:00, 15.81it/s]\n"
          ]
        },
        {
          "name": "stdout",
          "output_type": "stream",
          "text": [
            "Train Loss: 0.0065, Train Acc: 70.9525%\n"
          ]
        },
        {
          "name": "stderr",
          "output_type": "stream",
          "text": [
            "Epoch 34/50 \u001b[34mValid \u001b[0m: 100%|██████████| 79/79 [00:14<00:00,  5.59it/s, Valid Loss: 0.0012, Valid Acc: 73.130%]\n"
          ]
        },
        {
          "name": "stdout",
          "output_type": "stream",
          "text": [
            "--------------------------------------------------------------------------------------------------------------\n"
          ]
        },
        {
          "name": "stderr",
          "output_type": "stream",
          "text": [
            "Epoch 35/50 \u001b[34mTrain\u001b[0m: 100%|██████████| 313/313 [00:18<00:00, 17.07it/s]\n"
          ]
        },
        {
          "name": "stdout",
          "output_type": "stream",
          "text": [
            "Train Loss: 0.0065, Train Acc: 70.9675%\n"
          ]
        },
        {
          "name": "stderr",
          "output_type": "stream",
          "text": [
            "Epoch 35/50 \u001b[34mValid \u001b[0m: 100%|██████████| 79/79 [00:11<00:00,  6.85it/s, Valid Loss: 0.0011, Valid Acc: 73.060%]\n"
          ]
        },
        {
          "name": "stdout",
          "output_type": "stream",
          "text": [
            "--------------------------------------------------------------------------------------------------------------\n"
          ]
        },
        {
          "name": "stderr",
          "output_type": "stream",
          "text": [
            "Epoch 36/50 \u001b[34mTrain\u001b[0m: 100%|██████████| 313/313 [00:19<00:00, 16.33it/s]\n"
          ]
        },
        {
          "name": "stdout",
          "output_type": "stream",
          "text": [
            "Train Loss: 0.0064, Train Acc: 71.0950%\n"
          ]
        },
        {
          "name": "stderr",
          "output_type": "stream",
          "text": [
            "Epoch 36/50 \u001b[34mValid \u001b[0m: 100%|██████████| 79/79 [00:12<00:00,  6.16it/s, Valid Loss: 0.0009, Valid Acc: 73.260%]\n"
          ]
        },
        {
          "name": "stdout",
          "output_type": "stream",
          "text": [
            "--------------------------------------------------------------------------------------------------------------\n"
          ]
        },
        {
          "name": "stderr",
          "output_type": "stream",
          "text": [
            "Epoch 37/50 \u001b[34mTrain\u001b[0m: 100%|██████████| 313/313 [00:19<00:00, 16.29it/s]\n"
          ]
        },
        {
          "name": "stdout",
          "output_type": "stream",
          "text": [
            "Train Loss: 0.0064, Train Acc: 71.2225%\n"
          ]
        },
        {
          "name": "stderr",
          "output_type": "stream",
          "text": [
            "Epoch 37/50 \u001b[34mValid \u001b[0m: 100%|██████████| 79/79 [00:13<00:00,  5.94it/s, Valid Loss: 0.0011, Valid Acc: 73.050%]\n"
          ]
        },
        {
          "name": "stdout",
          "output_type": "stream",
          "text": [
            "--------------------------------------------------------------------------------------------------------------\n"
          ]
        },
        {
          "name": "stderr",
          "output_type": "stream",
          "text": [
            "Epoch 38/50 \u001b[34mTrain\u001b[0m: 100%|██████████| 313/313 [00:19<00:00, 16.18it/s]\n"
          ]
        },
        {
          "name": "stdout",
          "output_type": "stream",
          "text": [
            "Train Loss: 0.0064, Train Acc: 71.3500%\n"
          ]
        },
        {
          "name": "stderr",
          "output_type": "stream",
          "text": [
            "Epoch 38/50 \u001b[34mValid \u001b[0m: 100%|██████████| 79/79 [00:14<00:00,  5.38it/s, Valid Loss: 0.0010, Valid Acc: 73.430%]\n"
          ]
        },
        {
          "name": "stdout",
          "output_type": "stream",
          "text": [
            "--------------------------------------------------------------------------------------------------------------\n"
          ]
        },
        {
          "name": "stderr",
          "output_type": "stream",
          "text": [
            "Epoch 39/50 \u001b[34mTrain\u001b[0m: 100%|██████████| 313/313 [00:20<00:00, 15.22it/s]\n"
          ]
        },
        {
          "name": "stdout",
          "output_type": "stream",
          "text": [
            "Train Loss: 0.0064, Train Acc: 71.4675%\n"
          ]
        },
        {
          "name": "stderr",
          "output_type": "stream",
          "text": [
            "Epoch 39/50 \u001b[34mValid \u001b[0m: 100%|██████████| 79/79 [00:15<00:00,  5.22it/s, Valid Loss: 0.0009, Valid Acc: 72.800%]\n"
          ]
        },
        {
          "name": "stdout",
          "output_type": "stream",
          "text": [
            "--------------------------------------------------------------------------------------------------------------\n"
          ]
        },
        {
          "name": "stderr",
          "output_type": "stream",
          "text": [
            "Epoch 40/50 \u001b[34mTrain\u001b[0m: 100%|██████████| 313/313 [00:20<00:00, 15.36it/s]\n"
          ]
        },
        {
          "name": "stdout",
          "output_type": "stream",
          "text": [
            "Train Loss: 0.0064, Train Acc: 71.3225%\n"
          ]
        },
        {
          "name": "stderr",
          "output_type": "stream",
          "text": [
            "Epoch 40/50 \u001b[34mValid \u001b[0m: 100%|██████████| 79/79 [00:14<00:00,  5.32it/s, Valid Loss: 0.0010, Valid Acc: 73.110%]\n"
          ]
        },
        {
          "name": "stdout",
          "output_type": "stream",
          "text": [
            "--------------------------------------------------------------------------------------------------------------\n"
          ]
        },
        {
          "name": "stderr",
          "output_type": "stream",
          "text": [
            "Epoch 41/50 \u001b[34mTrain\u001b[0m: 100%|██████████| 313/313 [00:20<00:00, 15.05it/s]\n"
          ]
        },
        {
          "name": "stdout",
          "output_type": "stream",
          "text": [
            "Train Loss: 0.0063, Train Acc: 71.6200%\n"
          ]
        },
        {
          "name": "stderr",
          "output_type": "stream",
          "text": [
            "Epoch 41/50 \u001b[34mValid \u001b[0m: 100%|██████████| 79/79 [00:12<00:00,  6.33it/s, Valid Loss: 0.0012, Valid Acc: 73.870%]\n"
          ]
        },
        {
          "name": "stdout",
          "output_type": "stream",
          "text": [
            "--------------------------------------------------------------------------------------------------------------\n"
          ]
        },
        {
          "name": "stderr",
          "output_type": "stream",
          "text": [
            "Epoch 42/50 \u001b[34mTrain\u001b[0m: 100%|██████████| 313/313 [00:14<00:00, 21.61it/s]\n"
          ]
        },
        {
          "name": "stdout",
          "output_type": "stream",
          "text": [
            "Train Loss: 0.0063, Train Acc: 71.7100%\n"
          ]
        },
        {
          "name": "stderr",
          "output_type": "stream",
          "text": [
            "Epoch 42/50 \u001b[34mValid \u001b[0m: 100%|██████████| 79/79 [00:09<00:00,  7.96it/s, Valid Loss: 0.0012, Valid Acc: 73.700%]\n"
          ]
        },
        {
          "name": "stdout",
          "output_type": "stream",
          "text": [
            "--------------------------------------------------------------------------------------------------------------\n"
          ]
        },
        {
          "name": "stderr",
          "output_type": "stream",
          "text": [
            "Epoch 43/50 \u001b[34mTrain\u001b[0m: 100%|██████████| 313/313 [00:13<00:00, 22.97it/s]\n"
          ]
        },
        {
          "name": "stdout",
          "output_type": "stream",
          "text": [
            "Train Loss: 0.0063, Train Acc: 71.8400%\n"
          ]
        },
        {
          "name": "stderr",
          "output_type": "stream",
          "text": [
            "Epoch 43/50 \u001b[34mValid \u001b[0m: 100%|██████████| 79/79 [00:09<00:00,  8.22it/s, Valid Loss: 0.0012, Valid Acc: 73.220%]\n"
          ]
        },
        {
          "name": "stdout",
          "output_type": "stream",
          "text": [
            "--------------------------------------------------------------------------------------------------------------\n"
          ]
        },
        {
          "name": "stderr",
          "output_type": "stream",
          "text": [
            "Epoch 44/50 \u001b[34mTrain\u001b[0m: 100%|██████████| 313/313 [00:13<00:00, 23.25it/s]\n"
          ]
        },
        {
          "name": "stdout",
          "output_type": "stream",
          "text": [
            "Train Loss: 0.0063, Train Acc: 71.7175%\n"
          ]
        },
        {
          "name": "stderr",
          "output_type": "stream",
          "text": [
            "Epoch 44/50 \u001b[34mValid \u001b[0m: 100%|██████████| 79/79 [00:11<00:00,  6.93it/s, Valid Loss: 0.0012, Valid Acc: 73.760%]\n"
          ]
        },
        {
          "name": "stdout",
          "output_type": "stream",
          "text": [
            "--------------------------------------------------------------------------------------------------------------\n"
          ]
        },
        {
          "name": "stderr",
          "output_type": "stream",
          "text": [
            "Epoch 45/50 \u001b[34mTrain\u001b[0m: 100%|██████████| 313/313 [00:13<00:00, 22.65it/s]\n"
          ]
        },
        {
          "name": "stdout",
          "output_type": "stream",
          "text": [
            "Train Loss: 0.0062, Train Acc: 72.0975%\n"
          ]
        },
        {
          "name": "stderr",
          "output_type": "stream",
          "text": [
            "Epoch 45/50 \u001b[34mValid \u001b[0m: 100%|██████████| 79/79 [00:11<00:00,  7.09it/s, Valid Loss: 0.0012, Valid Acc: 73.910%]\n"
          ]
        },
        {
          "name": "stdout",
          "output_type": "stream",
          "text": [
            "--------------------------------------------------------------------------------------------------------------\n"
          ]
        },
        {
          "name": "stderr",
          "output_type": "stream",
          "text": [
            "Epoch 46/50 \u001b[34mTrain\u001b[0m: 100%|██████████| 313/313 [00:14<00:00, 22.00it/s]\n"
          ]
        },
        {
          "name": "stdout",
          "output_type": "stream",
          "text": [
            "Train Loss: 0.0062, Train Acc: 72.3075%\n"
          ]
        },
        {
          "name": "stderr",
          "output_type": "stream",
          "text": [
            "Epoch 46/50 \u001b[34mValid \u001b[0m: 100%|██████████| 79/79 [00:09<00:00,  8.33it/s, Valid Loss: 0.0012, Valid Acc: 74.280%]\n"
          ]
        },
        {
          "name": "stdout",
          "output_type": "stream",
          "text": [
            "--------------------------------------------------------------------------------------------------------------\n"
          ]
        },
        {
          "name": "stderr",
          "output_type": "stream",
          "text": [
            "Epoch 47/50 \u001b[34mTrain\u001b[0m: 100%|██████████| 313/313 [00:16<00:00, 18.72it/s]\n"
          ]
        },
        {
          "name": "stdout",
          "output_type": "stream",
          "text": [
            "Train Loss: 0.0062, Train Acc: 72.2600%\n"
          ]
        },
        {
          "name": "stderr",
          "output_type": "stream",
          "text": [
            "Epoch 47/50 \u001b[34mValid \u001b[0m: 100%|██████████| 79/79 [00:09<00:00,  7.97it/s, Valid Loss: 0.0011, Valid Acc: 74.010%]\n"
          ]
        },
        {
          "name": "stdout",
          "output_type": "stream",
          "text": [
            "--------------------------------------------------------------------------------------------------------------\n"
          ]
        },
        {
          "name": "stderr",
          "output_type": "stream",
          "text": [
            "Epoch 48/50 \u001b[34mTrain\u001b[0m: 100%|██████████| 313/313 [00:14<00:00, 21.62it/s]\n"
          ]
        },
        {
          "name": "stdout",
          "output_type": "stream",
          "text": [
            "Train Loss: 0.0062, Train Acc: 72.0950%\n"
          ]
        },
        {
          "name": "stderr",
          "output_type": "stream",
          "text": [
            "Epoch 48/50 \u001b[34mValid \u001b[0m: 100%|██████████| 79/79 [00:10<00:00,  7.26it/s, Valid Loss: 0.0008, Valid Acc: 73.910%]\n"
          ]
        },
        {
          "name": "stdout",
          "output_type": "stream",
          "text": [
            "--------------------------------------------------------------------------------------------------------------\n"
          ]
        },
        {
          "name": "stderr",
          "output_type": "stream",
          "text": [
            "Epoch 49/50 \u001b[34mTrain\u001b[0m: 100%|██████████| 313/313 [00:15<00:00, 20.71it/s]\n"
          ]
        },
        {
          "name": "stdout",
          "output_type": "stream",
          "text": [
            "Train Loss: 0.0061, Train Acc: 72.5300%\n"
          ]
        },
        {
          "name": "stderr",
          "output_type": "stream",
          "text": [
            "Epoch 49/50 \u001b[34mValid \u001b[0m: 100%|██████████| 79/79 [00:10<00:00,  7.37it/s, Valid Loss: 0.0014, Valid Acc: 73.890%]\n"
          ]
        },
        {
          "name": "stdout",
          "output_type": "stream",
          "text": [
            "--------------------------------------------------------------------------------------------------------------\n"
          ]
        },
        {
          "name": "stderr",
          "output_type": "stream",
          "text": [
            "Epoch 50/50 \u001b[34mTrain\u001b[0m: 100%|██████████| 313/313 [00:12<00:00, 25.32it/s]\n"
          ]
        },
        {
          "name": "stdout",
          "output_type": "stream",
          "text": [
            "Train Loss: 0.0061, Train Acc: 72.3675%\n"
          ]
        },
        {
          "name": "stderr",
          "output_type": "stream",
          "text": [
            "Epoch 50/50 \u001b[34mValid \u001b[0m: 100%|██████████| 79/79 [00:09<00:00,  8.43it/s, Valid Loss: 0.0008, Valid Acc: 74.080%]\n"
          ]
        },
        {
          "name": "stdout",
          "output_type": "stream",
          "text": [
            "--------------------------------------------------------------------------------------------------------------\n"
          ]
        },
        {
          "name": "stderr",
          "output_type": "stream",
          "text": [
            "Epoch 50/50 \u001b[34mTest \u001b[0m: 100%|██████████| 79/79 [00:09<00:00,  8.58it/s, Test Loss: 0.0009, Test Acc: 76.190%]\n"
          ]
        }
      ],
      "source": [
        "for epoch in range(epochs):\n",
        "    train(model, train_loader, criterion, optimizer, epoch)\n",
        "    valid_or_test('valid', model, device, valid_loader, epoch)\n",
        "\n",
        "valid_or_test('test', model, device, test_loader, epoch)"
      ]
    },
    {
      "cell_type": "markdown",
      "metadata": {
        "id": "ew_3Odz7zNPZ"
      },
      "source": [
        "## 틀린 것이랑 맞은 것 사진 출력하는 것 프롬프트로 퍼플렉시티한테 질문"
      ]
    },
    {
      "cell_type": "markdown",
      "metadata": {},
      "source": [
        "### pretrained 모델 사용한 코드"
      ]
    },
    {
      "cell_type": "code",
      "execution_count": 12,
      "metadata": {},
      "outputs": [
        {
          "name": "stdout",
          "output_type": "stream",
          "text": [
            "Collecting efficientnet_pytorchNote: you may need to restart the kernel to use updated packages.\n",
            "\n",
            "  Downloading efficientnet_pytorch-0.7.1.tar.gz (21 kB)\n",
            "  Preparing metadata (setup.py): started\n",
            "  Preparing metadata (setup.py): finished with status 'done'\n",
            "Requirement already satisfied: torch in c:\\users\\yjkim_pc\\anaconda3\\envs\\pt\\lib\\site-packages (from efficientnet_pytorch) (2.4.1+cu124)\n",
            "Requirement already satisfied: filelock in c:\\users\\yjkim_pc\\anaconda3\\envs\\pt\\lib\\site-packages (from torch->efficientnet_pytorch) (3.13.1)\n",
            "Requirement already satisfied: typing-extensions>=4.8.0 in c:\\users\\yjkim_pc\\anaconda3\\envs\\pt\\lib\\site-packages (from torch->efficientnet_pytorch) (4.12.2)\n",
            "Requirement already satisfied: sympy in c:\\users\\yjkim_pc\\anaconda3\\envs\\pt\\lib\\site-packages (from torch->efficientnet_pytorch) (1.12)\n",
            "Requirement already satisfied: networkx in c:\\users\\yjkim_pc\\anaconda3\\envs\\pt\\lib\\site-packages (from torch->efficientnet_pytorch) (3.2.1)\n",
            "Requirement already satisfied: jinja2 in c:\\users\\yjkim_pc\\anaconda3\\envs\\pt\\lib\\site-packages (from torch->efficientnet_pytorch) (3.1.3)\n",
            "Requirement already satisfied: fsspec in c:\\users\\yjkim_pc\\anaconda3\\envs\\pt\\lib\\site-packages (from torch->efficientnet_pytorch) (2024.2.0)\n",
            "Requirement already satisfied: MarkupSafe>=2.0 in c:\\users\\yjkim_pc\\anaconda3\\envs\\pt\\lib\\site-packages (from jinja2->torch->efficientnet_pytorch) (2.1.5)\n",
            "Requirement already satisfied: mpmath>=0.19 in c:\\users\\yjkim_pc\\anaconda3\\envs\\pt\\lib\\site-packages (from sympy->torch->efficientnet_pytorch) (1.3.0)\n",
            "Building wheels for collected packages: efficientnet_pytorch\n",
            "  Building wheel for efficientnet_pytorch (setup.py): started\n",
            "  Building wheel for efficientnet_pytorch (setup.py): finished with status 'done'\n",
            "  Created wheel for efficientnet_pytorch: filename=efficientnet_pytorch-0.7.1-py3-none-any.whl size=16458 sha256=cb4c79bf1f35a1a9600f21717e652af991d86e9d474dd4d3b8340bc8202e6e7c\n",
            "  Stored in directory: c:\\users\\yjkim_pc\\appdata\\local\\pip\\cache\\wheels\\03\\3f\\e9\\911b1bc46869644912bda90a56bcf7b960f20b5187feea3baf\n",
            "Successfully built efficientnet_pytorch\n",
            "Installing collected packages: efficientnet_pytorch\n",
            "Successfully installed efficientnet_pytorch-0.7.1\n"
          ]
        }
      ],
      "source": [
        "%pip install efficientnet_pytorch"
      ]
    },
    {
      "cell_type": "code",
      "execution_count": 13,
      "metadata": {
        "id": "2AumgGlYzSSD"
      },
      "outputs": [
        {
          "name": "stdout",
          "output_type": "stream",
          "text": [
            "Files already downloaded and verified\n",
            "Files already downloaded and verified\n"
          ]
        },
        {
          "name": "stderr",
          "output_type": "stream",
          "text": [
            "Downloading: \"https://github.com/lukemelas/EfficientNet-PyTorch/releases/download/1.0/efficientnet-b0-355c32eb.pth\" to C:\\Users\\YJKIM_PC/.cache\\torch\\hub\\checkpoints\\efficientnet-b0-355c32eb.pth\n",
            "100%|██████████| 20.4M/20.4M [00:01<00:00, 11.8MB/s]\n"
          ]
        },
        {
          "name": "stdout",
          "output_type": "stream",
          "text": [
            "Loaded pretrained weights for efficientnet-b0\n"
          ]
        },
        {
          "name": "stderr",
          "output_type": "stream",
          "text": [
            "Epoch  1/7 \u001b[34mTrain\u001b[0m: 100%|██████████| 313/313 [00:27<00:00, 11.50it/s, Train Loss: 1.1022, Train Acc: 61.7550%]\n",
            "Epoch  1/7 \u001b[34mValid\u001b[0m: 100%|██████████| 79/79 [00:10<00:00,  7.49it/s, Valid Loss: 0.0016, Valid Acc: 69.850%]\n"
          ]
        },
        {
          "name": "stdout",
          "output_type": "stream",
          "text": [
            "--------------------------------------------------------------------------------------------------------------\n"
          ]
        },
        {
          "name": "stderr",
          "output_type": "stream",
          "text": [
            "Epoch  2/7 \u001b[34mTrain\u001b[0m: 100%|██████████| 313/313 [00:25<00:00, 12.44it/s, Train Loss: 0.7411, Train Acc: 74.4700%]\n",
            "Epoch  2/7 \u001b[34mValid\u001b[0m: 100%|██████████| 79/79 [00:09<00:00,  7.99it/s, Valid Loss: 0.0008, Valid Acc: 77.470%]\n"
          ]
        },
        {
          "name": "stdout",
          "output_type": "stream",
          "text": [
            "--------------------------------------------------------------------------------------------------------------\n"
          ]
        },
        {
          "name": "stderr",
          "output_type": "stream",
          "text": [
            "Epoch  3/7 \u001b[34mTrain\u001b[0m: 100%|██████████| 313/313 [00:25<00:00, 12.33it/s, Train Loss: 0.6224, Train Acc: 78.3775%]\n",
            "Epoch  3/7 \u001b[34mValid\u001b[0m: 100%|██████████| 79/79 [00:10<00:00,  7.20it/s, Valid Loss: 0.0013, Valid Acc: 80.150%]\n"
          ]
        },
        {
          "name": "stdout",
          "output_type": "stream",
          "text": [
            "--------------------------------------------------------------------------------------------------------------\n"
          ]
        },
        {
          "name": "stderr",
          "output_type": "stream",
          "text": [
            "Epoch  4/7 \u001b[34mTrain\u001b[0m: 100%|██████████| 313/313 [00:25<00:00, 12.39it/s, Train Loss: 0.5643, Train Acc: 80.4975%]\n",
            "Epoch  4/7 \u001b[34mValid\u001b[0m: 100%|██████████| 79/79 [00:10<00:00,  7.20it/s, Valid Loss: 0.0010, Valid Acc: 81.270%]\n"
          ]
        },
        {
          "name": "stdout",
          "output_type": "stream",
          "text": [
            "--------------------------------------------------------------------------------------------------------------\n"
          ]
        },
        {
          "name": "stderr",
          "output_type": "stream",
          "text": [
            "Epoch  5/7 \u001b[34mTrain\u001b[0m: 100%|██████████| 313/313 [00:26<00:00, 11.87it/s, Train Loss: 0.5117, Train Acc: 82.3325%]\n",
            "Epoch  5/7 \u001b[34mValid\u001b[0m: 100%|██████████| 79/79 [00:11<00:00,  6.91it/s, Valid Loss: 0.0007, Valid Acc: 81.760%]\n"
          ]
        },
        {
          "name": "stdout",
          "output_type": "stream",
          "text": [
            "--------------------------------------------------------------------------------------------------------------\n"
          ]
        },
        {
          "name": "stderr",
          "output_type": "stream",
          "text": [
            "Epoch  6/7 \u001b[34mTrain\u001b[0m: 100%|██████████| 313/313 [00:25<00:00, 12.25it/s, Train Loss: 0.4830, Train Acc: 83.3075%]\n",
            "Epoch  6/7 \u001b[34mValid\u001b[0m: 100%|██████████| 79/79 [00:11<00:00,  6.97it/s, Valid Loss: 0.0008, Valid Acc: 81.420%]\n"
          ]
        },
        {
          "name": "stdout",
          "output_type": "stream",
          "text": [
            "--------------------------------------------------------------------------------------------------------------\n"
          ]
        },
        {
          "name": "stderr",
          "output_type": "stream",
          "text": [
            "Epoch  7/7 \u001b[34mTrain\u001b[0m: 100%|██████████| 313/313 [00:24<00:00, 12.56it/s, Train Loss: 0.4536, Train Acc: 84.3075%]\n",
            "Epoch  7/7 \u001b[34mValid\u001b[0m: 100%|██████████| 79/79 [00:11<00:00,  7.04it/s, Valid Loss: 0.0014, Valid Acc: 82.500%]\n"
          ]
        },
        {
          "name": "stdout",
          "output_type": "stream",
          "text": [
            "--------------------------------------------------------------------------------------------------------------\n"
          ]
        },
        {
          "name": "stderr",
          "output_type": "stream",
          "text": [
            "Epoch  7/7 \u001b[34mTest\u001b[0m: 100%|██████████| 79/79 [00:09<00:00,  7.92it/s, Test Loss: 0.0016, Test Acc: 83.190%]\n"
          ]
        }
      ],
      "source": [
        "import torch\n",
        "import torch.nn as nn\n",
        "import torch.optim as optim\n",
        "import torchvision.transforms as transforms\n",
        "import torchvision.datasets as datasets\n",
        "from torch.utils.data import DataLoader, random_split\n",
        "from tqdm import tqdm\n",
        "from efficientnet_pytorch import EfficientNet\n",
        "\n",
        "import time\n",
        "\n",
        "# GPU 사용 가능 여부 확인\n",
        "device = torch.device(\"cuda\" if torch.cuda.is_available() else \"cpu\")\n",
        "\n",
        "# 데이터 증강 및 정규화 설정\n",
        "transform_train = transforms.Compose([\n",
        "    transforms.RandomCrop(32, padding=4),\n",
        "    transforms.RandomHorizontalFlip(),\n",
        "    transforms.ToTensor(),\n",
        "    transforms.Normalize([0.485, 0.456, 0.406], [0.229, 0.224, 0.225])  # ImageNet 정규화 사용\n",
        "])\n",
        "\n",
        "transform_test = transforms.Compose([\n",
        "    transforms.ToTensor(),\n",
        "    transforms.Normalize([0.485, 0.456, 0.406], [0.229, 0.224, 0.225])\n",
        "])\n",
        "\n",
        "# CIFAR10 데이터셋 로드\n",
        "train_dataset = datasets.CIFAR10(root='./data', train=True, download=True, transform=transform_train)\n",
        "test_dataset = datasets.CIFAR10(root='./data', train=False, download=True, transform=transform_test)\n",
        "\n",
        "# 훈련/검증 데이터 분할\n",
        "train_ratio = 0.8\n",
        "train_size = int(len(train_dataset) * train_ratio)\n",
        "val_size = len(train_dataset) - train_size\n",
        "train_dataset, val_dataset = random_split(train_dataset, [train_size, val_size])\n",
        "\n",
        "# 데이터 로더 생성\n",
        "batch_size = 128\n",
        "train_loader = DataLoader(train_dataset, batch_size=batch_size, shuffle=True, num_workers=2)\n",
        "valid_loader = DataLoader(val_dataset, batch_size=batch_size, shuffle=False, num_workers=2)\n",
        "test_loader = DataLoader(test_dataset, batch_size=batch_size, shuffle=False, num_workers=2)\n",
        "\n",
        "# EfficientNet-B0 모델 로드 및 수정\n",
        "model = EfficientNet.from_pretrained('efficientnet-b0', num_classes=10)  # CIFAR10 클래스 수: 10\n",
        "model = model.to(device)\n",
        "\n",
        "# 손실 함수, 옵티마이저 설정\n",
        "criterion = nn.CrossEntropyLoss()\n",
        "optimizer = optim.Adam(model.parameters(), lr=0.001)\n",
        "\n",
        "# 학습 정보 저장 리스트\n",
        "train_losses = []\n",
        "valid_losses = []\n",
        "train_accuracies = []\n",
        "valid_accuracies = []\n",
        "\n",
        "# 학습 함수 정의\n",
        "def train(model, train_loader, criterion, optimizer, epoch, epochs):\n",
        "    model.train()\n",
        "    train_loss = 0\n",
        "    train_correct = 0\n",
        "    train_total = 0\n",
        "\n",
        "    start_str = f'Epoch {epoch+1:2d}/{epochs} \\033[34mTrain\\033[0m'\n",
        "    with tqdm(total=len(train_loader), desc=start_str) as pbar:\n",
        "        for images, labels in train_loader:\n",
        "            images, labels = images.to(device), labels.to(device)\n",
        "\n",
        "            optimizer.zero_grad()\n",
        "            outputs = model(images)\n",
        "            loss = criterion(outputs, labels)\n",
        "            loss.backward()\n",
        "            optimizer.step()\n",
        "\n",
        "            train_loss += loss.item()\n",
        "            _, predicted = torch.max(outputs.data, 1)\n",
        "\n",
        "            train_total += labels.size(0)\n",
        "            train_correct += (predicted == labels).sum().item()\n",
        "            pbar.update(1)\n",
        "\n",
        "        train_loss = train_loss / len(train_loader)\n",
        "        train_accuracy = (train_correct / train_total) * 100\n",
        "        train_losses.append(train_loss)\n",
        "        train_accuracies.append(train_accuracy)\n",
        "        end_str = f'Train Loss: {train_loss:.4f}, Train Acc: {train_accuracy:.4f}%'\n",
        "        pbar.set_postfix_str(end_str)\n",
        "\n",
        "# 검증/테스트 함수 정의\n",
        "def valid_or_test(mode, model, device, dataloader, epoch, epochs):\n",
        "    model.eval()\n",
        "    loss = 0.0\n",
        "    correct = 0\n",
        "    total = 0\n",
        "    with torch.no_grad():\n",
        "        if mode == 'valid':\n",
        "            start_str = f'Epoch {epoch+1:2d}/{epochs} \\033[34mValid\\033[0m'\n",
        "        elif mode == 'test':\n",
        "            start_str = f'Epoch {epoch+1:2d}/{epochs} \\033[34mTest\\033[0m'\n",
        "\n",
        "        with tqdm(total=len(dataloader), desc=start_str) as pbar:\n",
        "            for data, target in dataloader:\n",
        "                data, target = data.to(device), target.to(device)\n",
        "                outputs = model(data)\n",
        "                loss = criterion(outputs, target)\n",
        "\n",
        "                loss += loss.item() * data.size(0)\n",
        "                _, predicted = torch.max(outputs, 1)\n",
        "                total += target.size(0)\n",
        "                correct += (predicted == target).sum().item()\n",
        "                pbar.update(1)\n",
        "\n",
        "            loss = loss / total\n",
        "            accuracy = 100 * correct / total\n",
        "            if mode == 'valid':\n",
        "                end_str = f'Valid Loss: {loss:.4f}, Valid Acc: {accuracy:.3f}%'\n",
        "            elif mode == 'test':\n",
        "                end_str = f'Test Loss: {loss:.4f}, Test Acc: {accuracy:.3f}%'\n",
        "            pbar.set_postfix_str(end_str)\n",
        "\n",
        "    if mode == 'valid':\n",
        "        valid_losses.append(loss)\n",
        "        valid_accuracies.append(accuracy)\n",
        "        print('-' * 110)\n",
        "\n",
        "# 학습 시작\n",
        "epochs = 7\n",
        "for epoch in range(epochs):\n",
        "    train(model, train_loader, criterion, optimizer, epoch, epochs)\n",
        "    valid_or_test('valid', model, device, valid_loader, epoch, epochs)\n",
        "\n",
        "# 테스트\n",
        "valid_or_test('test', model, device, test_loader, epoch, epochs)"
      ]
    },
    {
      "cell_type": "code",
      "execution_count": null,
      "metadata": {},
      "outputs": [],
      "source": []
    }
  ],
  "metadata": {
    "accelerator": "GPU",
    "colab": {
      "gpuType": "T4",
      "provenance": []
    },
    "kernelspec": {
      "display_name": "Python 3",
      "name": "python3"
    },
    "language_info": {
      "codemirror_mode": {
        "name": "ipython",
        "version": 3
      },
      "file_extension": ".py",
      "mimetype": "text/x-python",
      "name": "python",
      "nbconvert_exporter": "python",
      "pygments_lexer": "ipython3",
      "version": "3.10.14"
    }
  },
  "nbformat": 4,
  "nbformat_minor": 0
}
